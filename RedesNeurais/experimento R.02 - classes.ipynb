{
 "cells": [
  {
   "cell_type": "markdown",
   "metadata": {},
   "source": [
    "Introdução à Classes\n",
    "====================\n",
    "\n"
   ]
  },
  {
   "cell_type": "markdown",
   "metadata": {},
   "source": [
    "## Introdução\n",
    "\n"
   ]
  },
  {
   "cell_type": "markdown",
   "metadata": {},
   "source": [
    "Quando queremos organizar objetos em uma certa ordem bem definida, usamos `listas`.\n",
    "\n",
    "Quando queremos relacionar dois objetos entre si, usamos `dicionários`.\n",
    "\n",
    "Quando queremos agrupar objetos únicos sem repetição e sem ordem bem definida, usamos `conjuntos`.\n",
    "\n",
    "Quando queremos executar uma sequência bem definida de ações, usamos `funções`.\n",
    "\n",
    "O que nós usamos quando queremos criar uma estrutura complexa de informações e ações onde apenas listas, dicionários, conjuntos e funções não são suficientes? Neste caso, usamos `classes`!\n",
    "\n"
   ]
  },
  {
   "cell_type": "markdown",
   "metadata": {},
   "source": [
    "## Código e discussão\n",
    "\n"
   ]
  },
  {
   "cell_type": "markdown",
   "metadata": {},
   "source": [
    "### A classe mais simples do mundo\n",
    "\n"
   ]
  },
  {
   "cell_type": "markdown",
   "metadata": {},
   "source": [
    "A classe mais simples do mundo é simplesmente um amontoado de informação. Classes devem ser nomeadas sempre com a primeira letra em maiúsculo.\n",
    "\n"
   ]
  },
  {
   "cell_type": "code",
   "execution_count": 1,
   "metadata": {},
   "outputs": [],
   "source": [
    "class Dados:\n",
    "    dado1 = 10\n",
    "    dado2 = [1, 2, 3]\n",
    "    dado3 = 0.908\n",
    "    dado4 = {\"a\": 1, \"b\": 2}"
   ]
  },
  {
   "cell_type": "markdown",
   "metadata": {},
   "source": [
    "Para criar um objeto baseado na sua classe, basta chamá-la com o parênteses, da mesma forma que fazemos com funções.\n",
    "\n"
   ]
  },
  {
   "cell_type": "code",
   "execution_count": 2,
   "metadata": {},
   "outputs": [],
   "source": [
    "# Classe não é um objeto, mas uma receita, o nome_objeto é um objeto da receita Dados\n",
    "nome_objeto = Dados()"
   ]
  },
  {
   "cell_type": "markdown",
   "metadata": {},
   "source": [
    "Agora podemos acessar os objetos da classe. Para isso usamos o ponto final.\n",
    "\n"
   ]
  },
  {
   "cell_type": "code",
   "execution_count": 3,
   "metadata": {},
   "outputs": [
    {
     "name": "stdout",
     "output_type": "stream",
     "text": [
      "10\n"
     ]
    }
   ],
   "source": [
    "# dado 1 é um objeto que faz parte da receita, ou seja, a classe criada\n",
    "print(nome_objeto.dado1)"
   ]
  },
  {
   "cell_type": "markdown",
   "metadata": {},
   "source": [
    "Se você se perguntou &ldquo;uai, mas por que usar uma classe sendo que um dicionário faria efetivamente a mesma coisa?&rdquo;, então você está no caminho certo. Apenas armazenar dados em uma classe desta forma não representa uma vantagem objetiva em relação à usar um dicionário. Vamos seguir em frente!\n",
    "\n"
   ]
  },
  {
   "cell_type": "markdown",
   "metadata": {},
   "source": [
    "### Classes podem fazer algo ao serem criadas\n",
    "\n"
   ]
  },
  {
   "cell_type": "markdown",
   "metadata": {},
   "source": [
    "Quando nós criamos uma classe, nós dizemos que criamos uma instância desta classe. Uma instância de uma classe representa um objeto que tem as propriedades da classe.\n",
    "\n",
    "Ao instanciar uma classe, você pode executar uma tarefa. Para isso, defina o método `__init__` usando necessariamente o `self` como primeiro argumento.\n",
    "\n"
   ]
  },
  {
   "cell_type": "code",
   "execution_count": 4,
   "metadata": {},
   "outputs": [],
   "source": [
    "# É possível criar algo dentro da receita, por exemplo uma função para executar uma tarefa automaticamente\n",
    "# e um objeto que recebe um argumento, neste caso modulo_elastico\n",
    "class Material:\n",
    "    def __init__(self, modulo_elastico):\n",
    "        self.modulo_elastico = modulo_elastico"
   ]
  },
  {
   "cell_type": "markdown",
   "metadata": {},
   "source": [
    "Agora podemos criar um objeto da classe `Material` com um certo valor de módulo elástico.\n",
    "\n"
   ]
  },
  {
   "cell_type": "code",
   "execution_count": 5,
   "metadata": {},
   "outputs": [
    {
     "name": "stdout",
     "output_type": "stream",
     "text": [
      "<__main__.Material object at 0x00000253660A6F40>\n",
      "100\n"
     ]
    }
   ],
   "source": [
    "modulo_elastico_do_meu_material = 100\n",
    "meu_material = Material(modulo_elastico_do_meu_material)\n",
    "\n",
    "print(meu_material)\n",
    "print(meu_material.modulo_elastico)"
   ]
  },
  {
   "cell_type": "markdown",
   "metadata": {},
   "source": [
    "### Os métodos `dunder`\n",
    "\n"
   ]
  },
  {
   "cell_type": "markdown",
   "metadata": {},
   "source": [
    "Observe que acima usamos um método chamado `__init__` com prefixo de dois sublinhados e sufixo de dois sublinhados. Esses métodos com essa notação são especiais e são chamados de `dunder` (vem de *double underscore*, ou duplo sublinhado em português). Existem diversos métodos dunder!\n",
    "\n",
    "Os métodos dunder controlam certos comportamentos da nossa classe. Por exemplo, observe que quando damos `print` em um objeto instanciado de uma classe ele mostra um texto padrão do tipo `<__main__.Material object at 0x7f0d2b57f9a0>`. Quem controla o texto que é exibido é o método dunder `__repr__`. Vamos ver um exemplo.\n",
    "\n"
   ]
  },
  {
   "cell_type": "code",
   "execution_count": 6,
   "metadata": {},
   "outputs": [
    {
     "name": "stdout",
     "output_type": "stream",
     "text": [
      "Material com módulo elástico de 100 GPa.\n"
     ]
    }
   ],
   "source": [
    "# A função de representação __repr__ altera o comportamento de uma classe\n",
    "# Funções incluídas em uma classe são métodos se executam uma tarefa, e são propriedades se armazenam um dado\n",
    "\n",
    "class Material:\n",
    "    def __init__(self, modulo_elastico):\n",
    "        self.modulo_elastico = modulo_elastico\n",
    "\n",
    "    def __repr__(self):\n",
    "        return f\"Material com módulo elástico de {self.modulo_elastico} GPa.\"\n",
    "\n",
    "modulo_elastico_do_meu_material = 100\n",
    "meu_material = Material(modulo_elastico_do_meu_material)\n",
    "\n",
    "print(meu_material)"
   ]
  },
  {
   "cell_type": "markdown",
   "metadata": {},
   "source": [
    "### Os métodos que não são `dunder`\n",
    "\n"
   ]
  },
  {
   "cell_type": "markdown",
   "metadata": {},
   "source": [
    "Classes podem ter métodos que não são especiais. Vamos tentar implementar um método que usa a lei de Hook para calcular a tensão aplicada no material ($\\sigma$) dada uma deformação ($\\varepsilon$).\n",
    "\n",
    "$$\n",
    "\\sigma = E \\varepsilon\n",
    "$$\n",
    "\n"
   ]
  },
  {
   "cell_type": "code",
   "execution_count": 7,
   "metadata": {},
   "outputs": [
    {
     "name": "stdout",
     "output_type": "stream",
     "text": [
      "5000\n"
     ]
    }
   ],
   "source": [
    "class Material:\n",
    "    def __init__(self, modulo_elastico):\n",
    "        self.modulo_elastico = modulo_elastico\n",
    "\n",
    "    def __repr__(self):\n",
    "        return f\"Material com módulo elástico de {self.modulo_elastico} GPa.\"\n",
    "    \n",
    "    def tensao(self, deformacao):\n",
    "        valor_tensao = self.modulo_elastico * deformacao\n",
    "        return valor_tensao\n",
    "\n",
    "modulo_elastico_do_meu_material = 100\n",
    "meu_material = Material(modulo_elastico_do_meu_material)\n",
    "\n",
    "deformacao = 50\n",
    "\n",
    "calculo_tensao = meu_material.tensao(deformacao)\n",
    "print(calculo_tensao)"
   ]
  },
  {
   "cell_type": "markdown",
   "metadata": {},
   "source": [
    "### Alterando o estado da nossa classe\n",
    "\n"
   ]
  },
  {
   "cell_type": "markdown",
   "metadata": {},
   "source": [
    "Classes são estruturas de dados onde nos preocupamos com o seu estado. No exemplo acima, nosso material tem uma propriedade chamada de `modulo_elastico`. Digamos que nós podemos aumentar o módulo elástico do nosso material realizando um tratamento térmico. Cada vez que realizamos o tratamento térmico o módulo elástico aumenta em 10%, porém o material só aguenta no máximo 5 tratamentos térmicos. Alterar uma propriedade da nossa classe é alterar seu estado. Podemos adicionar esse processo de tratamento térmico na nossa classe.\n",
    "\n"
   ]
  },
  {
   "cell_type": "code",
   "execution_count": 8,
   "metadata": {},
   "outputs": [],
   "source": [
    "# Programação funcional - definir funções é pensar em ações sobre objetos\n",
    "# Programação orientada a objeto - definir classes é pensar no estado ou comportamento do objeto"
   ]
  },
  {
   "cell_type": "code",
   "execution_count": 9,
   "metadata": {},
   "outputs": [
    {
     "name": "stdout",
     "output_type": "stream",
     "text": [
      "Material com módulo elástico de 100 GPa.\n",
      "Material com módulo elástico de 110.00000000000001 GPa.\n",
      "Material com módulo elástico de 121.00000000000003 GPa.\n",
      "Material com módulo elástico de 133.10000000000005 GPa.\n",
      "Material com módulo elástico de 146.41000000000008 GPa.\n",
      "Material com módulo elástico de 161.0510000000001 GPa.\n",
      "Material com módulo elástico de 161.0510000000001 GPa.\n",
      "Material com módulo elástico de 161.0510000000001 GPa.\n"
     ]
    }
   ],
   "source": [
    "class Material:\n",
    "    def __init__(self, modulo_elastico):\n",
    "        self.modulo_elastico = modulo_elastico\n",
    "        self.num_tratamentos = 0\n",
    "\n",
    "    def __repr__(self):\n",
    "        return f\"Material com módulo elástico de {self.modulo_elastico} GPa.\"\n",
    "\n",
    "    def tratamento_termico(self):\n",
    "        if self.num_tratamentos < 5:\n",
    "            self.modulo_elastico = self.modulo_elastico * 1.1\n",
    "            self.num_tratamentos = self.num_tratamentos + 1\n",
    "\n",
    "modulo_elastico_do_meu_material = 100\n",
    "meu_material = Material(modulo_elastico_do_meu_material)\n",
    "\n",
    "print(meu_material)\n",
    "\n",
    "meu_material.tratamento_termico()\n",
    "print(meu_material)\n",
    "\n",
    "meu_material.tratamento_termico()\n",
    "print(meu_material)\n",
    "\n",
    "meu_material.tratamento_termico()\n",
    "print(meu_material)\n",
    "\n",
    "meu_material.tratamento_termico()\n",
    "print(meu_material)\n",
    "\n",
    "meu_material.tratamento_termico()\n",
    "print(meu_material)\n",
    "\n",
    "meu_material.tratamento_termico()\n",
    "print(meu_material)\n",
    "\n",
    "meu_material.tratamento_termico()\n",
    "print(meu_material)"
   ]
  },
  {
   "cell_type": "markdown",
   "metadata": {},
   "source": [
    "### Alterando o estado da nossa classe fora dela\n",
    "\n"
   ]
  },
  {
   "cell_type": "markdown",
   "metadata": {},
   "source": [
    "Em certos casos nós precisamos alterar alguma propriedade da nossa classe fora dela (isto é, fora das linhas de código que foram usadas para definir a classe). Podemos, por exemplo, alterar o módulo elástico do nosso material &ldquo;na mão&rdquo;.\n",
    "\n"
   ]
  },
  {
   "cell_type": "code",
   "execution_count": 10,
   "metadata": {},
   "outputs": [
    {
     "name": "stdout",
     "output_type": "stream",
     "text": [
      "Material com módulo elástico de 100 GPa.\n",
      "Material com módulo elástico de 200 GPa.\n"
     ]
    }
   ],
   "source": [
    "class Material:\n",
    "    def __init__(self, modulo_elastico):\n",
    "        self.modulo_elastico = modulo_elastico\n",
    "        self.num_tratamentos = 0\n",
    "\n",
    "    def __repr__(self):\n",
    "        return f\"Material com módulo elástico de {self.modulo_elastico} GPa.\"\n",
    "\n",
    "modulo_elastico_do_meu_material = 100\n",
    "meu_material = Material(modulo_elastico_do_meu_material)\n",
    "print(meu_material)\n",
    "\n",
    "# alterando a propriedade \"na mão\"\n",
    "meu_material.modulo_elastico = 200\n",
    "print(meu_material)"
   ]
  },
  {
   "cell_type": "markdown",
   "metadata": {},
   "source": [
    "Pense muito bem antes de sair alterando propriedades de classes &ldquo;na mão&rdquo;. Não é uma ação proibida, mas também não é algo que fazemos a todo momento sem justificativa.\n",
    "\n"
   ]
  },
  {
   "cell_type": "markdown",
   "metadata": {},
   "source": [
    "### Testando suas habilidades\n",
    "\n"
   ]
  },
  {
   "cell_type": "markdown",
   "metadata": {},
   "source": [
    "Para testar suas habilidades, modifique a classe `Material` adicionando um novo argumento no método `__init__`, usando ele para criar uma nova propriedade e criando um novo método que altera o estado desta classe.\n",
    "\n"
   ]
  },
  {
   "cell_type": "code",
   "execution_count": 11,
   "metadata": {},
   "outputs": [
    {
     "name": "stdout",
     "output_type": "stream",
     "text": [
      "A composição do material é AlSiFe, com módulo elástico de 100 GPa.\n",
      "A ductilidade do material é 75.0 %\n"
     ]
    }
   ],
   "source": [
    "import math\n",
    "\n",
    "class Material:\n",
    "    def __init__(self, modulo_elastico, composicao):\n",
    "        self.modulo_elastico = modulo_elastico\n",
    "        self.composicao = composicao\n",
    "    \n",
    "    def ductilidade(self, d0, df):\n",
    "        a0 = math.pi*(d0/2)**2\n",
    "        af = math.pi*(df/2)**2\n",
    "        self.ductilidade_valor = 100*(a0 - af)/a0        \n",
    "     \n",
    "    def __repr__(self):\n",
    "        return f'A composição do material é {self.composicao}, com módulo elástico de {self.modulo_elastico} GPa.'\n",
    "\n",
    "modulo_elastico_material = 100\n",
    "composicao = 'AlSiFe'\n",
    "novo_material = Material(modulo_elastico_material, composicao)\n",
    "\n",
    "print(novo_material)\n",
    "\n",
    "d0 = 10\n",
    "df = 5\n",
    "\n",
    "novo_material.ductilidade(d0, df)\n",
    "\n",
    "print('A ductilidade do material é', novo_material.ductilidade_valor, '%')"
   ]
  },
  {
   "cell_type": "markdown",
   "metadata": {},
   "source": [
    "## Conclusão\n",
    "\n"
   ]
  },
  {
   "cell_type": "markdown",
   "metadata": {},
   "source": [
    "Neste notebook constata-se que ao usar classes em Python é possível trabalhar com uma estrutura variada de dados e ações que podem ser executadas sobre esses dados de maneira automática, apenas aplicando métodos definidos em uma determinada classe sobre o objeto o qual se deseja alterar seu estado, por isso é um tipo de programação orientada a objeto. Foi visto que as classes possuem métodos reservados, como o `__init__` e o `__repr__` que são denominados métodos dunder e executam ações específicas dentro da classe.\n",
    "\n",
    "As classes apresentam a flexibilidade de criar inúmeros métodos que alterem o comportamento ou estado dos objetos, conforme a necessidade de resolução para cada situação. Além disso, é possível alterar as propriedades de uma classe, embora não seja uma prática recomendada sem uma justificativa plausível, pode ser útil, por exemplo, se for preciso calcular propriedades termodinâmicas de uma mistura binária de substâncias líquidas, que estão com os dados de temperatura na unidade de medida em graus celsius e há a necessidade de converter para a unidade de medida em kelvin.\n",
    "\n",
    "Observação: A classe segue uma ordem lógica estruturada, que começa pelo método construtor de classe `__init__` e executa as ações, conforme cada método subsequente é chamado."
   ]
  },
  {
   "cell_type": "markdown",
   "metadata": {},
   "source": [
    "## Playground\n",
    "\n"
   ]
  },
  {
   "cell_type": "code",
   "execution_count": 12,
   "metadata": {},
   "outputs": [],
   "source": [
    "try:\n",
    "    import graphviz\n",
    "except ModuleNotFoundError:\n",
    "    import sys\n",
    "    !{sys.executable} -m pip install graphviz"
   ]
  }
 ],
 "metadata": {
  "kernelspec": {
   "display_name": "ilumpy",
   "language": "python",
   "name": "ilumpy"
  },
  "language_info": {
   "codemirror_mode": {
    "name": "ipython",
    "version": 3
   },
   "file_extension": ".py",
   "mimetype": "text/x-python",
   "name": "python",
   "nbconvert_exporter": "python",
   "pygments_lexer": "ipython3",
   "version": "3.9.7"
  },
  "org": null
 },
 "nbformat": 4,
 "nbformat_minor": 4
}
