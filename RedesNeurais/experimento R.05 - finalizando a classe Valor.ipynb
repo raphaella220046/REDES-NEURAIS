{
 "cells": [
  {
   "cell_type": "markdown",
   "metadata": {},
   "source": [
    "Finalizando a classe Valor\n",
    "==========================\n",
    "\n"
   ]
  },
  {
   "cell_type": "markdown",
   "metadata": {},
   "source": [
    "## Introdução\n",
    "\n"
   ]
  },
  {
   "cell_type": "markdown",
   "metadata": {},
   "source": [
    "Chegou a hora de finalizar a classe `Valor`!\n",
    "\n"
   ]
  },
  {
   "cell_type": "markdown",
   "metadata": {},
   "source": [
    "## Objetivo\n",
    "\n"
   ]
  },
  {
   "cell_type": "markdown",
   "metadata": {},
   "source": [
    "O objetivo é fazer com que a classe `Valor` seja capaz de realizar algumas operações necessárias para que seja usada na nossa rede neural artificial.\n",
    "\n"
   ]
  },
  {
   "cell_type": "markdown",
   "metadata": {},
   "source": [
    "## Importações\n",
    "\n"
   ]
  },
  {
   "cell_type": "code",
   "execution_count": 1,
   "metadata": {},
   "outputs": [],
   "source": [
    "import math\n",
    "from funcoes import plota_grafo"
   ]
  },
  {
   "cell_type": "markdown",
   "metadata": {},
   "source": [
    "## Código e discussão\n",
    "\n"
   ]
  },
  {
   "cell_type": "markdown",
   "metadata": {},
   "source": [
    "### Finalizando a classe `Valor`\n",
    "\n"
   ]
  },
  {
   "cell_type": "markdown",
   "metadata": {},
   "source": [
    "Aqui está a classe `Valor` assim como feita na aula anterior. Vamos modificá-la para cumprir nossos objetivos (ver objetivos na próxima seção).\n",
    "\n"
   ]
  },
  {
   "cell_type": "code",
   "execution_count": 2,
   "metadata": {},
   "outputs": [],
   "source": [
    "class Valor:\n",
    "    def __init__(self, data, progenitor=(), operador_mae=\"\", rotulo=\"\"):\n",
    "        self.data = data\n",
    "        self.progenitor = progenitor\n",
    "        self.operador_mae = operador_mae\n",
    "        self.rotulo = rotulo\n",
    "        self.grad = 0\n",
    "\n",
    "    def __repr__(self):\n",
    "        return f\"Valor(data={self.data})\"\n",
    "\n",
    "    def __add__(self, outro_valor): # self + outro_valor\n",
    "        if not isinstance(outro_valor, Valor): # Checa se a instância não pertence a classe valor e faz a operação\n",
    "            outro_valor = Valor(outro_valor)\n",
    "        data = self.data + outro_valor.data\n",
    "        progenitor = (self, outro_valor)\n",
    "        operador_mae = \"+\"\n",
    "        saida = Valor(data, progenitor, operador_mae)\n",
    "\n",
    "        def propagar_adicao():\n",
    "            self.grad += saida.grad * 1\n",
    "            outro_valor.grad += saida.grad * 1\n",
    "\n",
    "        saida.propagar = propagar_adicao\n",
    "\n",
    "        return saida\n",
    "    \n",
    "    def __radd__(self, outro_valor): # Adição de outro_valor + self, faz a troca caso a soma não funcione\n",
    "        return self + outro_valor\n",
    "\n",
    "    def __mul__(self, outro_valor): # self * outro_valor\n",
    "        if not isinstance(outro_valor, Valor): # Checa se a instância não pertence a classe valor e faz a operação\n",
    "            outro_valor = Valor(outro_valor)\n",
    "        data = self.data * outro_valor.data\n",
    "        progenitor = (self, outro_valor)\n",
    "        operador_mae = \"*\"\n",
    "        saida = Valor(data, progenitor, operador_mae)\n",
    "\n",
    "        def propagar_multiplicacao():\n",
    "            self.grad += saida.grad * outro_valor.data\n",
    "            outro_valor.grad += saida.grad * self.data\n",
    "\n",
    "        saida.propagar = propagar_multiplicacao\n",
    "\n",
    "        return saida\n",
    "    \n",
    "    def __rmul__(self, outro_valor): # Multiplicação de outro_valor * self, faz a troca caso a operação não funcione\n",
    "        return self * outro_valor\n",
    "    \n",
    "    def __pow__(self, expoente):\n",
    "        \n",
    "        assert isinstance(expoente, (int, float)) # Assegura que a condição é verdadeira\n",
    "        \n",
    "        data = self.data ** expoente\n",
    "        progenitor = (self,)\n",
    "        operador_mae = f'**{expoente}'\n",
    "        saida = Valor(data, progenitor, operador_mae)\n",
    "\n",
    "        def propagar_exponenciacao():\n",
    "            self.grad += saida.grad * expoente * (self.data ** (expoente - 1))\n",
    "\n",
    "        saida.propagar = propagar_exponenciacao\n",
    "\n",
    "        return saida\n",
    "    \n",
    "    def __truediv__(self, outro_valor): # self / outro_valor\n",
    "        return self * outro_valor ** (-1)\n",
    "        \n",
    "    def __neg__(self): # - self\n",
    "        return self * (-1)\n",
    "    \n",
    "    def __sub__(self, outro_valor): # self - outro_valor\n",
    "        return self + (-outro_valor)\n",
    "    \n",
    "    def __rsub__(self, outro_valor): # outro_valor - self\n",
    "        return self * (-1) + outro_valor\n",
    "    \n",
    "    def sig(self):\n",
    "        return self.exp() / (self.exp() + 1)\n",
    "    \n",
    "    def exp(self): # Não precisa de argumento, é a exponencial do número fornecido\n",
    "        data = math.exp(self.data)\n",
    "        progenitor = (self,)\n",
    "        operador_mae = 'exp'\n",
    "        saida = Valor(data, progenitor, operador_mae)\n",
    "\n",
    "        def propagar_exp():\n",
    "            self.grad += saida.grad * data # A derivada da exponencial é ela mesma\n",
    "\n",
    "        saida.propagar = propagar_exp\n",
    "\n",
    "        return saida\n",
    "\n",
    "    def propagar(self):\n",
    "        pass\n",
    "\n",
    "    def propagar_tudo(self):\n",
    "        ordem_topologica = []\n",
    "        visitados = set()\n",
    "\n",
    "        def constroi_ordem_topologica(v):\n",
    "            if v not in visitados:\n",
    "                visitados.add(v)\n",
    "                for progenitor in v.progenitor:\n",
    "                    constroi_ordem_topologica(progenitor)\n",
    "                ordem_topologica.append(v)\n",
    "\n",
    "        constroi_ordem_topologica(self)\n",
    "\n",
    "        self.grad = 1  # o gradiente do vértice folha deve ser 1\n",
    "\n",
    "        for v in reversed(ordem_topologica):\n",
    "            v.propagar()"
   ]
  },
  {
   "cell_type": "markdown",
   "metadata": {},
   "source": [
    "### Objetivos a serem cumpridos\n",
    "\n"
   ]
  },
  {
   "cell_type": "markdown",
   "metadata": {},
   "source": [
    "Quero poder adicionar uma instância de `Valor` com uma constante qualquer.\n",
    "\n"
   ]
  },
  {
   "cell_type": "code",
   "execution_count": 3,
   "metadata": {},
   "outputs": [
    {
     "name": "stdout",
     "output_type": "stream",
     "text": [
      "Valor(data=11)\n"
     ]
    }
   ],
   "source": [
    "a = Valor(10, rotulo=\"a\")\n",
    "b = a + 1\n",
    "print(b)\n",
    "# É convertido para a.__add__(1) na linguagem do Python"
   ]
  },
  {
   "cell_type": "markdown",
   "metadata": {},
   "source": [
    "Quero poder multiplicar uma instância de `Valor` com uma constante qualquer.\n",
    "\n"
   ]
  },
  {
   "cell_type": "code",
   "execution_count": 4,
   "metadata": {},
   "outputs": [
    {
     "name": "stdout",
     "output_type": "stream",
     "text": [
      "Valor(data=100)\n"
     ]
    }
   ],
   "source": [
    "a = Valor(10, rotulo=\"a\")\n",
    "b = a * 10\n",
    "print(b)\n",
    "# É convertido para a.__mul__(10) na linguagem do Python"
   ]
  },
  {
   "cell_type": "markdown",
   "metadata": {},
   "source": [
    "Quero poder acidionar uma instância de `Valor` com uma constante qualquer, mas na ordem oposta.\n",
    "\n"
   ]
  },
  {
   "cell_type": "code",
   "execution_count": 5,
   "metadata": {},
   "outputs": [
    {
     "name": "stdout",
     "output_type": "stream",
     "text": [
      "Valor(data=11)\n"
     ]
    }
   ],
   "source": [
    "a = Valor(10, rotulo=\"a\")\n",
    "b = 1 + a\n",
    "print(b)\n",
    "# 1.__add__(a)\n",
    "# a.__radd__(1) se deu erro "
   ]
  },
  {
   "cell_type": "markdown",
   "metadata": {},
   "source": [
    "Quero poder multiplicar uma instância de `Valor` com uma constante qualquer, mas na ordem oposta.\n",
    "\n"
   ]
  },
  {
   "cell_type": "code",
   "execution_count": 6,
   "metadata": {},
   "outputs": [
    {
     "name": "stdout",
     "output_type": "stream",
     "text": [
      "Valor(data=100)\n"
     ]
    }
   ],
   "source": [
    "a = Valor(10, rotulo=\"a\")\n",
    "b = 10 * a\n",
    "print(b)"
   ]
  },
  {
   "cell_type": "markdown",
   "metadata": {},
   "source": [
    "Quero poder aplicar a função exponencial ($e^x$) em uma instância de `Valor`, computando corretamente o gradiente local desta operação.\n",
    "\n"
   ]
  },
  {
   "cell_type": "code",
   "execution_count": 7,
   "metadata": {},
   "outputs": [
    {
     "name": "stdout",
     "output_type": "stream",
     "text": [
      "Valor(data=2.718281828459045)\n"
     ]
    }
   ],
   "source": [
    "a = Valor(1, rotulo=\"a\")\n",
    "b = a.exp()\n",
    "print(b)"
   ]
  },
  {
   "cell_type": "markdown",
   "metadata": {},
   "source": [
    "Quero poder elevar uma instância de `Valor` a um número real qualquer. **Nota**: não vai funcionar se fizer um `Valor` elevado a outro `Valor` pois vamos propagar os gradientes apenas considerando que estamos elevando a uma constante qualquer.\n",
    "\n"
   ]
  },
  {
   "cell_type": "code",
   "execution_count": 8,
   "metadata": {},
   "outputs": [
    {
     "name": "stdout",
     "output_type": "stream",
     "text": [
      "Valor(data=100)\n"
     ]
    }
   ],
   "source": [
    "a = Valor(10, rotulo=\"a\")\n",
    "b = a**2\n",
    "print(b)"
   ]
  },
  {
   "cell_type": "markdown",
   "metadata": {},
   "source": [
    "Quero poder dividir uma instância de `Valor` por outra instância de `Valor`.\n",
    "\n"
   ]
  },
  {
   "cell_type": "code",
   "execution_count": 9,
   "metadata": {},
   "outputs": [
    {
     "name": "stdout",
     "output_type": "stream",
     "text": [
      "Valor(data=0.5)\n"
     ]
    }
   ],
   "source": [
    "a = Valor(1, rotulo=\"a\")\n",
    "b = Valor(2, rotulo=\"b\")\n",
    "c = a / b\n",
    "print(c)"
   ]
  },
  {
   "cell_type": "markdown",
   "metadata": {},
   "source": [
    "Quero poder computar o negativo de uma instância de `Valor`.\n",
    "\n"
   ]
  },
  {
   "cell_type": "code",
   "execution_count": 10,
   "metadata": {},
   "outputs": [
    {
     "name": "stdout",
     "output_type": "stream",
     "text": [
      "Valor(data=-1)\n"
     ]
    }
   ],
   "source": [
    "a = Valor(1, rotulo=\"a\")\n",
    "b = -a\n",
    "print(b)"
   ]
  },
  {
   "cell_type": "markdown",
   "metadata": {},
   "source": [
    "Quero poder subtrair uma instância de `Valor` por outra instância de `Valor`.\n",
    "\n"
   ]
  },
  {
   "cell_type": "code",
   "execution_count": 11,
   "metadata": {},
   "outputs": [
    {
     "name": "stdout",
     "output_type": "stream",
     "text": [
      "Valor(data=7)\n"
     ]
    }
   ],
   "source": [
    "a = Valor(10, rotulo=\"a\")\n",
    "b = Valor(3, rotulo=\"b\")\n",
    "c = a - b\n",
    "print(c)"
   ]
  },
  {
   "cell_type": "markdown",
   "metadata": {},
   "source": [
    "E, finalmente, quero poder aplicar a função sigmoide (também conhecida como logística) a uma instância de `Valor`. A função sigmoide é a seguinte:\n",
    "\n",
    "$$\n",
    "S(x) = \\frac{e^x}{e^x + 1}\n",
    "$$\n",
    "\n"
   ]
  },
  {
   "cell_type": "code",
   "execution_count": 12,
   "metadata": {},
   "outputs": [
    {
     "name": "stdout",
     "output_type": "stream",
     "text": [
      "Valor(data=0.7310585786300048)\n"
     ]
    },
    {
     "data": {
      "image/svg+xml": [
       "<?xml version=\"1.0\" encoding=\"UTF-8\" standalone=\"no\"?>\n",
       "<!DOCTYPE svg PUBLIC \"-//W3C//DTD SVG 1.1//EN\"\n",
       " \"http://www.w3.org/Graphics/SVG/1.1/DTD/svg11.dtd\">\n",
       "<!-- Generated by graphviz version 6.0.2 (20221011.1828)\n",
       " -->\n",
       "<!-- Pages: 1 -->\n",
       "<svg width=\"1573pt\" height=\"154pt\"\n",
       " viewBox=\"0.00 0.00 1573.00 154.00\" xmlns=\"http://www.w3.org/2000/svg\" xmlns:xlink=\"http://www.w3.org/1999/xlink\">\n",
       "<g id=\"graph0\" class=\"graph\" transform=\"scale(1 1) rotate(0) translate(4 150)\">\n",
       "<polygon fill=\"white\" stroke=\"none\" points=\"-4,4 -4,-150 1569,-150 1569,4 -4,4\"/>\n",
       "<!-- 1567769345568 -->\n",
       "<g id=\"node1\" class=\"node\">\n",
       "<title>1567769345568</title>\n",
       "<polygon fill=\"none\" stroke=\"black\" points=\"1071,-60.5 1071,-96.5 1255,-96.5 1255,-60.5 1071,-60.5\"/>\n",
       "<text text-anchor=\"middle\" x=\"1081\" y=\"-74.8\" font-family=\"Times New Roman,serif\" font-size=\"14.00\"> </text>\n",
       "<polyline fill=\"none\" stroke=\"black\" points=\"1091,-60.5 1091,-96.5\"/>\n",
       "<text text-anchor=\"middle\" x=\"1131.5\" y=\"-74.8\" font-family=\"Times New Roman,serif\" font-size=\"14.00\">data 0.2689</text>\n",
       "<polyline fill=\"none\" stroke=\"black\" points=\"1172,-60.5 1172,-96.5\"/>\n",
       "<text text-anchor=\"middle\" x=\"1213.5\" y=\"-74.8\" font-family=\"Times New Roman,serif\" font-size=\"14.00\">grad 2.7183</text>\n",
       "</g>\n",
       "<!-- 1567769342256* -->\n",
       "<g id=\"node6\" class=\"node\">\n",
       "<title>1567769342256*</title>\n",
       "<ellipse fill=\"none\" stroke=\"black\" cx=\"1318\" cy=\"-101.5\" rx=\"27\" ry=\"18\"/>\n",
       "<text text-anchor=\"middle\" x=\"1318\" y=\"-97.8\" font-family=\"Times New Roman,serif\" font-size=\"14.00\">*</text>\n",
       "</g>\n",
       "<!-- 1567769345568&#45;&gt;1567769342256* -->\n",
       "<g id=\"edge9\" class=\"edge\">\n",
       "<title>1567769345568&#45;&gt;1567769342256*</title>\n",
       "<path fill=\"none\" stroke=\"black\" d=\"M1255.21,-92.21C1264.47,-93.6 1273.42,-94.95 1281.51,-96.17\"/>\n",
       "<polygon fill=\"black\" stroke=\"black\" points=\"1281.19,-99.66 1291.6,-97.68 1282.23,-92.73 1281.19,-99.66\"/>\n",
       "</g>\n",
       "<!-- 1567769345568**&#45;1 -->\n",
       "<g id=\"node2\" class=\"node\">\n",
       "<title>1567769345568**&#45;1</title>\n",
       "<ellipse fill=\"none\" stroke=\"black\" cx=\"1008\" cy=\"-78.5\" rx=\"27\" ry=\"18\"/>\n",
       "<text text-anchor=\"middle\" x=\"1008\" y=\"-74.8\" font-family=\"Times New Roman,serif\" font-size=\"14.00\">**&#45;1</text>\n",
       "</g>\n",
       "<!-- 1567769345568**&#45;1&#45;&gt;1567769345568 -->\n",
       "<g id=\"edge1\" class=\"edge\">\n",
       "<title>1567769345568**&#45;1&#45;&gt;1567769345568</title>\n",
       "<path fill=\"none\" stroke=\"black\" d=\"M1035.3,-78.5C1042.83,-78.5 1051.52,-78.5 1060.75,-78.5\"/>\n",
       "<polygon fill=\"black\" stroke=\"black\" points=\"1060.95,-82 1070.95,-78.5 1060.95,-75 1060.95,-82\"/>\n",
       "</g>\n",
       "<!-- 1567769344080 -->\n",
       "<g id=\"node3\" class=\"node\">\n",
       "<title>1567769344080</title>\n",
       "<polygon fill=\"none\" stroke=\"black\" points=\"757,-58.5 757,-94.5 945,-94.5 945,-58.5 757,-58.5\"/>\n",
       "<text text-anchor=\"middle\" x=\"767\" y=\"-72.8\" font-family=\"Times New Roman,serif\" font-size=\"14.00\"> </text>\n",
       "<polyline fill=\"none\" stroke=\"black\" points=\"777,-58.5 777,-94.5\"/>\n",
       "<text text-anchor=\"middle\" x=\"817.5\" y=\"-72.8\" font-family=\"Times New Roman,serif\" font-size=\"14.00\">data 3.7183</text>\n",
       "<polyline fill=\"none\" stroke=\"black\" points=\"858,-58.5 858,-94.5\"/>\n",
       "<text text-anchor=\"middle\" x=\"901.5\" y=\"-72.8\" font-family=\"Times New Roman,serif\" font-size=\"14.00\">grad &#45;0.1966</text>\n",
       "</g>\n",
       "<!-- 1567769344080&#45;&gt;1567769345568**&#45;1 -->\n",
       "<g id=\"edge6\" class=\"edge\">\n",
       "<title>1567769344080&#45;&gt;1567769345568**&#45;1</title>\n",
       "<path fill=\"none\" stroke=\"black\" d=\"M945.29,-77.7C954.2,-77.82 962.81,-77.93 970.64,-78.03\"/>\n",
       "<polygon fill=\"black\" stroke=\"black\" points=\"970.73,-81.53 980.77,-78.16 970.82,-74.53 970.73,-81.53\"/>\n",
       "</g>\n",
       "<!-- 1567769344080+ -->\n",
       "<g id=\"node4\" class=\"node\">\n",
       "<title>1567769344080+</title>\n",
       "<ellipse fill=\"none\" stroke=\"black\" cx=\"629\" cy=\"-72.5\" rx=\"27\" ry=\"18\"/>\n",
       "<text text-anchor=\"middle\" x=\"629\" y=\"-68.8\" font-family=\"Times New Roman,serif\" font-size=\"14.00\">+</text>\n",
       "</g>\n",
       "<!-- 1567769344080+&#45;&gt;1567769344080 -->\n",
       "<g id=\"edge2\" class=\"edge\">\n",
       "<title>1567769344080+&#45;&gt;1567769344080</title>\n",
       "<path fill=\"none\" stroke=\"black\" d=\"M656.1,-72.97C678.74,-73.39 713.06,-74.01 746.56,-74.62\"/>\n",
       "<polygon fill=\"black\" stroke=\"black\" points=\"746.86,-78.13 756.92,-74.81 746.98,-71.13 746.86,-78.13\"/>\n",
       "</g>\n",
       "<!-- 1567769342256 -->\n",
       "<g id=\"node5\" class=\"node\">\n",
       "<title>1567769342256</title>\n",
       "<polygon fill=\"none\" stroke=\"black\" points=\"1381,-83.5 1381,-119.5 1565,-119.5 1565,-83.5 1381,-83.5\"/>\n",
       "<text text-anchor=\"middle\" x=\"1391\" y=\"-97.8\" font-family=\"Times New Roman,serif\" font-size=\"14.00\"> </text>\n",
       "<polyline fill=\"none\" stroke=\"black\" points=\"1401,-83.5 1401,-119.5\"/>\n",
       "<text text-anchor=\"middle\" x=\"1441.5\" y=\"-97.8\" font-family=\"Times New Roman,serif\" font-size=\"14.00\">data 0.7311</text>\n",
       "<polyline fill=\"none\" stroke=\"black\" points=\"1482,-83.5 1482,-119.5\"/>\n",
       "<text text-anchor=\"middle\" x=\"1523.5\" y=\"-97.8\" font-family=\"Times New Roman,serif\" font-size=\"14.00\">grad 1.0000</text>\n",
       "</g>\n",
       "<!-- 1567769342256*&#45;&gt;1567769342256 -->\n",
       "<g id=\"edge3\" class=\"edge\">\n",
       "<title>1567769342256*&#45;&gt;1567769342256</title>\n",
       "<path fill=\"none\" stroke=\"black\" d=\"M1345.3,-101.5C1352.83,-101.5 1361.52,-101.5 1370.75,-101.5\"/>\n",
       "<polygon fill=\"black\" stroke=\"black\" points=\"1370.95,-105 1380.95,-101.5 1370.95,-98 1370.95,-105\"/>\n",
       "</g>\n",
       "<!-- 1567769344848 -->\n",
       "<g id=\"node7\" class=\"node\">\n",
       "<title>1567769344848</title>\n",
       "<polygon fill=\"none\" stroke=\"black\" points=\"537,-109.5 537,-145.5 721,-145.5 721,-109.5 537,-109.5\"/>\n",
       "<text text-anchor=\"middle\" x=\"547\" y=\"-123.8\" font-family=\"Times New Roman,serif\" font-size=\"14.00\"> </text>\n",
       "<polyline fill=\"none\" stroke=\"black\" points=\"557,-109.5 557,-145.5\"/>\n",
       "<text text-anchor=\"middle\" x=\"597.5\" y=\"-123.8\" font-family=\"Times New Roman,serif\" font-size=\"14.00\">data 2.7183</text>\n",
       "<polyline fill=\"none\" stroke=\"black\" points=\"638,-109.5 638,-145.5\"/>\n",
       "<text text-anchor=\"middle\" x=\"679.5\" y=\"-123.8\" font-family=\"Times New Roman,serif\" font-size=\"14.00\">grad 0.2689</text>\n",
       "</g>\n",
       "<!-- 1567769344848&#45;&gt;1567769342256* -->\n",
       "<g id=\"edge12\" class=\"edge\">\n",
       "<title>1567769344848&#45;&gt;1567769342256*</title>\n",
       "<path fill=\"none\" stroke=\"black\" d=\"M721.15,-125.78C842.9,-123.17 1065.31,-117.33 1255,-106.5 1263.43,-106.02 1272.5,-105.36 1281.02,-104.69\"/>\n",
       "<polygon fill=\"black\" stroke=\"black\" points=\"1281.4,-108.17 1291.08,-103.86 1280.82,-101.19 1281.4,-108.17\"/>\n",
       "</g>\n",
       "<!-- 1567769344848exp -->\n",
       "<g id=\"node8\" class=\"node\">\n",
       "<title>1567769344848exp</title>\n",
       "<ellipse fill=\"none\" stroke=\"black\" cx=\"250\" cy=\"-127.5\" rx=\"27\" ry=\"18\"/>\n",
       "<text text-anchor=\"middle\" x=\"250\" y=\"-123.8\" font-family=\"Times New Roman,serif\" font-size=\"14.00\">exp</text>\n",
       "</g>\n",
       "<!-- 1567769344848exp&#45;&gt;1567769344848 -->\n",
       "<g id=\"edge4\" class=\"edge\">\n",
       "<title>1567769344848exp&#45;&gt;1567769344848</title>\n",
       "<path fill=\"none\" stroke=\"black\" d=\"M277.21,-127.5C328,-127.5 442.23,-127.5 526.6,-127.5\"/>\n",
       "<polygon fill=\"black\" stroke=\"black\" points=\"526.74,-131 536.74,-127.5 526.74,-124 526.74,-131\"/>\n",
       "</g>\n",
       "<!-- 1567769343360 -->\n",
       "<g id=\"node9\" class=\"node\">\n",
       "<title>1567769343360</title>\n",
       "<polygon fill=\"none\" stroke=\"black\" points=\"313,-55.5 313,-91.5 501,-91.5 501,-55.5 313,-55.5\"/>\n",
       "<text text-anchor=\"middle\" x=\"323\" y=\"-69.8\" font-family=\"Times New Roman,serif\" font-size=\"14.00\"> </text>\n",
       "<polyline fill=\"none\" stroke=\"black\" points=\"333,-55.5 333,-91.5\"/>\n",
       "<text text-anchor=\"middle\" x=\"373.5\" y=\"-69.8\" font-family=\"Times New Roman,serif\" font-size=\"14.00\">data 2.7183</text>\n",
       "<polyline fill=\"none\" stroke=\"black\" points=\"414,-55.5 414,-91.5\"/>\n",
       "<text text-anchor=\"middle\" x=\"457.5\" y=\"-69.8\" font-family=\"Times New Roman,serif\" font-size=\"14.00\">grad &#45;0.1966</text>\n",
       "</g>\n",
       "<!-- 1567769343360&#45;&gt;1567769344080+ -->\n",
       "<g id=\"edge11\" class=\"edge\">\n",
       "<title>1567769343360&#45;&gt;1567769344080+</title>\n",
       "<path fill=\"none\" stroke=\"black\" d=\"M501.3,-73.08C533.13,-72.93 566.87,-72.78 591.52,-72.67\"/>\n",
       "<polygon fill=\"black\" stroke=\"black\" points=\"591.85,-76.16 601.83,-72.62 591.82,-69.16 591.85,-76.16\"/>\n",
       "</g>\n",
       "<!-- 1567769343360exp -->\n",
       "<g id=\"node10\" class=\"node\">\n",
       "<title>1567769343360exp</title>\n",
       "<ellipse fill=\"none\" stroke=\"black\" cx=\"250\" cy=\"-73.5\" rx=\"27\" ry=\"18\"/>\n",
       "<text text-anchor=\"middle\" x=\"250\" y=\"-69.8\" font-family=\"Times New Roman,serif\" font-size=\"14.00\">exp</text>\n",
       "</g>\n",
       "<!-- 1567769343360exp&#45;&gt;1567769343360 -->\n",
       "<g id=\"edge5\" class=\"edge\">\n",
       "<title>1567769343360exp&#45;&gt;1567769343360</title>\n",
       "<path fill=\"none\" stroke=\"black\" d=\"M277.29,-73.5C284.78,-73.5 293.42,-73.5 302.6,-73.5\"/>\n",
       "<polygon fill=\"black\" stroke=\"black\" points=\"302.76,-77 312.76,-73.5 302.76,-70 302.76,-77\"/>\n",
       "</g>\n",
       "<!-- 1567769342928 -->\n",
       "<g id=\"node11\" class=\"node\">\n",
       "<title>1567769342928</title>\n",
       "<polygon fill=\"none\" stroke=\"black\" points=\"0,-82.5 0,-118.5 187,-118.5 187,-82.5 0,-82.5\"/>\n",
       "<text text-anchor=\"middle\" x=\"11.5\" y=\"-96.8\" font-family=\"Times New Roman,serif\" font-size=\"14.00\">a</text>\n",
       "<polyline fill=\"none\" stroke=\"black\" points=\"23,-82.5 23,-118.5\"/>\n",
       "<text text-anchor=\"middle\" x=\"63.5\" y=\"-96.8\" font-family=\"Times New Roman,serif\" font-size=\"14.00\">data 1.0000</text>\n",
       "<polyline fill=\"none\" stroke=\"black\" points=\"104,-82.5 104,-118.5\"/>\n",
       "<text text-anchor=\"middle\" x=\"145.5\" y=\"-96.8\" font-family=\"Times New Roman,serif\" font-size=\"14.00\">grad 0.1966</text>\n",
       "</g>\n",
       "<!-- 1567769342928&#45;&gt;1567769344848exp -->\n",
       "<g id=\"edge8\" class=\"edge\">\n",
       "<title>1567769342928&#45;&gt;1567769344848exp</title>\n",
       "<path fill=\"none\" stroke=\"black\" d=\"M187.05,-116.67C196.34,-118.3 205.33,-119.87 213.44,-121.29\"/>\n",
       "<polygon fill=\"black\" stroke=\"black\" points=\"213.1,-124.78 223.55,-123.05 214.3,-117.88 213.1,-124.78\"/>\n",
       "</g>\n",
       "<!-- 1567769342928&#45;&gt;1567769343360exp -->\n",
       "<g id=\"edge10\" class=\"edge\">\n",
       "<title>1567769342928&#45;&gt;1567769343360exp</title>\n",
       "<path fill=\"none\" stroke=\"black\" d=\"M187.05,-84.33C196.34,-82.7 205.33,-81.13 213.44,-79.71\"/>\n",
       "<polygon fill=\"black\" stroke=\"black\" points=\"214.3,-83.12 223.55,-77.95 213.1,-76.22 214.3,-83.12\"/>\n",
       "</g>\n",
       "<!-- 1567769343984 -->\n",
       "<g id=\"node12\" class=\"node\">\n",
       "<title>1567769343984</title>\n",
       "<polygon fill=\"none\" stroke=\"black\" points=\"313,-0.5 313,-36.5 501,-36.5 501,-0.5 313,-0.5\"/>\n",
       "<text text-anchor=\"middle\" x=\"323\" y=\"-14.8\" font-family=\"Times New Roman,serif\" font-size=\"14.00\"> </text>\n",
       "<polyline fill=\"none\" stroke=\"black\" points=\"333,-0.5 333,-36.5\"/>\n",
       "<text text-anchor=\"middle\" x=\"373.5\" y=\"-14.8\" font-family=\"Times New Roman,serif\" font-size=\"14.00\">data 1.0000</text>\n",
       "<polyline fill=\"none\" stroke=\"black\" points=\"414,-0.5 414,-36.5\"/>\n",
       "<text text-anchor=\"middle\" x=\"457.5\" y=\"-14.8\" font-family=\"Times New Roman,serif\" font-size=\"14.00\">grad &#45;0.1966</text>\n",
       "</g>\n",
       "<!-- 1567769343984&#45;&gt;1567769344080+ -->\n",
       "<g id=\"edge7\" class=\"edge\">\n",
       "<title>1567769343984&#45;&gt;1567769344080+</title>\n",
       "<path fill=\"none\" stroke=\"black\" d=\"M481.56,-36.56C519.33,-45.83 563.56,-56.68 593.45,-64.02\"/>\n",
       "<polygon fill=\"black\" stroke=\"black\" points=\"592.84,-67.47 603.39,-66.46 594.51,-60.68 592.84,-67.47\"/>\n",
       "</g>\n",
       "</g>\n",
       "</svg>\n"
      ],
      "text/plain": [
       "<graphviz.graphs.Digraph at 0x16d0655bca0>"
      ]
     },
     "execution_count": 12,
     "metadata": {},
     "output_type": "execute_result"
    }
   ],
   "source": [
    "a = Valor(1, rotulo=\"a\")\n",
    "b = a.sig()\n",
    "print(b)\n",
    "b.propagar_tudo()\n",
    "plota_grafo(b)"
   ]
  },
  {
   "cell_type": "markdown",
   "metadata": {},
   "source": [
    "## Conclusão\n",
    "\n"
   ]
  },
  {
   "cell_type": "markdown",
   "metadata": {},
   "source": [
    "O algoritmo foi desenvolvido para realizar as operações matemáticas de adição, subtração, multiplicação, divisão, exponenciação, as funções exponencial e sigmoidal,  criando a classe `Valor`.\n",
    "\n",
    "As classes possuem algumas particularidades que foram exploradas nesse notebook, como por exemplo, para realizar as operações é preciso que o algoritmo verifique se o outro valor adicionado à operação pertence a classe valor e caso negativo, ele realize a operação assim mesmo. Para essa situação não foi desenvolvido um critério para realizar as ações apenas se os valores atribuídos as operações forem inteiros ou floats, pois subentende-se que serão fornecidos valores nessa classificação e não strings, logicamente.\n",
    "\n",
    "Caso ocorra a inversão entre valor e outro valor, as funções não conseguem executar a operação, visto que o argumento posicional não é interpretado como pertencente a classe, então caso a classe não consiga realizar a ação pelo modo convencional, é definida uma função que faz a inversão entre os valores, retornando o resultado esperado."
   ]
  },
  {
   "cell_type": "markdown",
   "metadata": {},
   "source": [
    "## Playground\n",
    "\n"
   ]
  },
  {
   "cell_type": "code",
   "execution_count": null,
   "metadata": {},
   "outputs": [],
   "source": []
  }
 ],
 "metadata": {
  "kernelspec": {
   "display_name": "ilumpy",
   "language": "python",
   "name": "ilumpy"
  },
  "language_info": {
   "codemirror_mode": {
    "name": "ipython",
    "version": 3
   },
   "file_extension": ".py",
   "mimetype": "text/x-python",
   "name": "python",
   "nbconvert_exporter": "python",
   "pygments_lexer": "ipython3",
   "version": "3.9.7"
  },
  "org": null
 },
 "nbformat": 4,
 "nbformat_minor": 4
}
