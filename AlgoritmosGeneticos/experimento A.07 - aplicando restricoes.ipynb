{
 "cells": [
  {
   "cell_type": "markdown",
   "metadata": {},
   "source": [
    "Aplicando restrições na busca\n",
    "=============================\n",
    "\n"
   ]
  },
  {
   "cell_type": "markdown",
   "metadata": {},
   "source": [
    "## Introdução\n",
    "\n"
   ]
  },
  {
   "cell_type": "markdown",
   "metadata": {},
   "source": [
    "Muitos problemas de otimização com relevância científica têm uma ou mais `restrições` que devem ser levadas em consideração na hora de resolver o problema.\n",
    "\n",
    "Lembra do `problema da mochila` que vimos em Lógica Computacional? Era um problema de otimização onde queríamos maximizar o valor dos itens colocados na mochila enquanto observávamos a restrição do peso total dos itens (do contrário, a mochila rasgava).\n",
    "\n",
    "Uma forma de considerar essas restrições nos problemas é aplicando uma `penalidade` na função objetivo.\n",
    "\n",
    "Vamos pensar como seria essa penalidade no problema da mochila: a função objetivo é maximizar o valor dos itens na mochila, então é um problema de maximização. A função objetivo pode ser a soma dos itens da mochila. Se fosse só isso, teríamos\n",
    "\n",
    "$$\n",
    "f = \\sum_{i, i \\in \\mathrm{mochila}}\\mathrm{valor}(i)\n",
    "$$\n",
    "\n",
    "No entanto, apenas essa função não resolve o problema! Precisamos levar em consideração o limite de peso da mochila! Para isso, penalizamos a função objetivo levando em consideração essa restrição:\n",
    "\n",
    "$f=\\begin{cases}\n",
    "0.01 & \\textrm{se peso > limite da mochila}\\\\\n",
    "\\sum_{i,i\\in\\mathrm{mochila}}(\\mathrm{valor}(i)) & \\textrm{se peso} \\leq \\textrm{limite da mochila}\n",
    "\\end{cases}$\n",
    "\n",
    "Agora finalmente podemos seguir em frente e resolver o problema.\n",
    "\n"
   ]
  },
  {
   "cell_type": "markdown",
   "metadata": {},
   "source": [
    "## Reflexões\n",
    "\n"
   ]
  },
  {
   "cell_type": "markdown",
   "metadata": {},
   "source": [
    "Se usarmos a equação de $f$ acima, qual será o valor de $f$ caso não exista uma solução para um certo problema da mochila?\n",
    "\n",
    "Na equação de $f$ acima nós usamos o valor zero para indicar que uma restrição do problema não foi satisfeita. Você consegue pensar em outra estratégia para penalizar soluções inválidas?\n",
    "\n"
   ]
  },
  {
   "cell_type": "markdown",
   "metadata": {},
   "source": [
    "## Objetivo\n",
    "\n"
   ]
  },
  {
   "cell_type": "markdown",
   "metadata": {},
   "source": [
    "Encontrar uma solução para o problema da mochila usando algoritmos genéticos. Considere que existem 10 itens diferentes (com pesos e valores diferentes) disponíveis para serem escolhidos.\n",
    "\n"
   ]
  },
  {
   "cell_type": "markdown",
   "metadata": {},
   "source": [
    "## Descrição do problema\n",
    "\n"
   ]
  },
  {
   "cell_type": "markdown",
   "metadata": {},
   "source": [
    "No problema da mochila você tem um número $n$ de itens disponíveis, cada um com um peso e um valor associado. Sua mochila tem a capacidade de carregar um número $p$ de quilogramas, sendo que mais que isso faz com que sua mochila rasgue e todos os itens dentro dela caiam no chão e se quebrem de maneira catastrófica (indesejado). Sua tarefa é encontrar um conjunto de itens (considerando os $n$ disponíveis) que maximize o valor contido dentro da mochila, porém que tenham um peso dentro da capacidade da mesma.\n",
    "\n"
   ]
  },
  {
   "cell_type": "markdown",
   "metadata": {},
   "source": [
    "## Importações\n",
    "\n"
   ]
  },
  {
   "cell_type": "code",
   "execution_count": 1,
   "metadata": {},
   "outputs": [],
   "source": [
    "import random\n",
    "\n",
    "from funcoes import computa_mochila\n",
    "from funcoes import funcao_objetivo_pop_mochila\n",
    "from funcoes import populacao_cb as cria_populacao_inicial\n",
    "from funcoes import selecao_roleta_max as funcao_selecao\n",
    "from funcoes import cruzamento_ponto_simples as funcao_cruzamento\n",
    "from funcoes import mutacao_cb as funcao_mutacao"
   ]
  },
  {
   "cell_type": "markdown",
   "metadata": {},
   "source": [
    "## Códigos e discussão\n",
    "\n"
   ]
  },
  {
   "cell_type": "code",
   "execution_count": 5,
   "metadata": {},
   "outputs": [],
   "source": [
    "# CONSTANTES\n",
    "\n",
    "# relacionadas à busca\n",
    "TAMANHO_POP = 30\n",
    "NUM_GERACOES = 50\n",
    "CHANCE_CRUZAMENTO = 0.5\n",
    "CHANCE_MUTACAO = 0.05\n",
    "\n",
    "# relacionadas ao problema a ser resolvido\n",
    "LIMITE_DE_PESO = 10\n",
    "OBJETOS = {\n",
    "    # dicionário baseado no que vocês enviaram na aula de Lógica\n",
    "\n",
    "    \"Notebook gamer\": {\n",
    "        \"peso\": 3,\n",
    "        \"valor\": 10000,\n",
    "    },\n",
    "    \"Trilogia de senhor dos anéis\": {\n",
    "        \"peso\": 1,\n",
    "        \"valor\": 500,\n",
    "    },\n",
    "    \"Torradeira\": {\n",
    "        \"peso\": 2,\n",
    "        \"valor\": 200,\n",
    "    },\n",
    "    \"Microscópio ótico\": {\n",
    "        \"peso\": 5,\n",
    "        \"valor\": 3000,\n",
    "    },\n",
    "    \"Binóculos\": {\n",
    "        \"peso\": 0.5,\n",
    "        \"valor\": 1000,\n",
    "    },\n",
    "    \"Telescópio\": {\n",
    "        \"peso\": 2,\n",
    "        \"valor\": 7000,\n",
    "    },\n",
    "    \"Coletânea das sinfonias de Beethoven em vinil\": {\n",
    "        \"peso\": 1,\n",
    "        \"valor\": 2000,\n",
    "    },\n",
    "    \"vitrola\": {\n",
    "        \"peso\": 7,\n",
    "        \"valor\": 3000,\n",
    "    },\n",
    "    \"Máquina de escrever\": {\n",
    "        \"peso\": 3,\n",
    "        \"valor\": 4000,\n",
    "    },\n",
    "    \"Lego da Pirâmide de Gizé\": {\n",
    "        \"peso\": 1.5,\n",
    "        \"valor\": 1000,\n",
    "    },\n",
    "}\n",
    "\n",
    "NUM_OBJETOS = len(OBJETOS)\n",
    "ORDEM_DOS_NOMES = list(sorted(OBJETOS.keys()))"
   ]
  },
  {
   "cell_type": "code",
   "execution_count": 3,
   "metadata": {},
   "outputs": [],
   "source": [
    "# Funções locais\n",
    "\n",
    "def funcao_objetivo_pop(populacao):\n",
    "    return funcao_objetivo_pop_mochila(populacao, OBJETOS, LIMITE_DE_PESO, ORDEM_DOS_NOMES)"
   ]
  },
  {
   "cell_type": "code",
   "execution_count": 11,
   "metadata": {},
   "outputs": [
    {
     "name": "stdout",
     "output_type": "stream",
     "text": [
      "Maior valor: 20700 | Peso: 9.5\n",
      "\n",
      "Você deve pegar os seguintes itens:\n",
      "+ Coletânea das sinfonias de Beethoven em vinil\n",
      "+ Máquina de escrever\n",
      "+ Notebook gamer\n",
      "+ Telescópio\n",
      "+ Trilogia de senhor dos anéis\n",
      "\n",
      "A mochila tem o valor de 23500 dinheiros e peso de 10 unidades de massa\n"
     ]
    }
   ],
   "source": [
    "# Busca por algoritmo genético\n",
    "\n",
    "populacao = cria_populacao_inicial(TAMANHO_POP, NUM_OBJETOS)\n",
    "\n",
    "# variáveis para o hall da fama\n",
    "\n",
    "melhor_fitness_ja_visto = -float(\"inf\")\n",
    "melhor_individuo_ja_visto = [0] * NUM_OBJETOS\n",
    "\n",
    "for n in range(NUM_GERACOES):\n",
    "\n",
    "    # Seleção\n",
    "    \n",
    "    fitness = funcao_objetivo_pop(populacao)\n",
    "    populacao = funcao_selecao(populacao, fitness)\n",
    "\n",
    "    # Cruzamento\n",
    "    \n",
    "    pais = populacao[0::2]\n",
    "    maes = populacao[1::2]\n",
    "\n",
    "    contador = 0\n",
    "\n",
    "    for pai, mae in zip(pais, maes):\n",
    "        if random.random() <= CHANCE_CRUZAMENTO:\n",
    "            filho1, filho2 = funcao_cruzamento(pai, mae)\n",
    "            populacao[contador] = filho1\n",
    "            populacao[contador + 1] = filho2\n",
    "\n",
    "        contador = contador + 2\n",
    "\n",
    "    # Mutação\n",
    "    \n",
    "    for n in range(len(populacao)):\n",
    "        if random.random() <= CHANCE_MUTACAO:\n",
    "            individuo = populacao[n]\n",
    "            populacao[n] = funcao_mutacao(individuo)\n",
    "\n",
    "    # melhor individuo já visto até agora (hall da fama)\n",
    "    \n",
    "    fitness = funcao_objetivo_pop(populacao)\n",
    "    maior_fitness = max(fitness)\n",
    "    posicao = fitness.index(maior_fitness) # associa cada elemento na lista ao objeto no dicionário\n",
    "    individuo = populacao[posicao].copy()\n",
    "    valor, peso = computa_mochila(individuo, OBJETOS, ORDEM_DOS_NOMES)\n",
    "    if maior_fitness > melhor_fitness_ja_visto and peso <= LIMITE_DE_PESO:\n",
    "        melhor_fitness_ja_visto = maior_fitness\n",
    "        melhor_individuo_ja_visto = individuo\n",
    "print(f\"Maior valor: {valor} | Peso: {peso}\")\n",
    "\n",
    "\n",
    "# reportando o melhor individuo encontrado\n",
    "\n",
    "print()\n",
    "print('Você deve pegar os seguintes itens:')\n",
    "for pega_ou_nao, item in zip(melhor_individuo_ja_visto, ORDEM_DOS_NOMES):\n",
    "    if pega_ou_nao == 1:\n",
    "        print('+', item)\n",
    "print()\n",
    "valor_total, peso_total = computa_mochila(\n",
    "    melhor_individuo_ja_visto, OBJETOS, ORDEM_DOS_NOMES\n",
    ")\n",
    "print(\n",
    "    f'A mochila tem o valor de {valor_total} dinheiros'\n",
    "    f' e peso de {peso_total} unidades de massa'\n",
    ")"
   ]
  },
  {
   "cell_type": "markdown",
   "metadata": {},
   "source": [
    "## Conclusão\n",
    "\n"
   ]
  },
  {
   "cell_type": "markdown",
   "metadata": {},
   "source": [
    "Esse experimento consiste em um problema do tipo NP difícil de maximização, no qual uma mochila deve comportar o máximo de objetos possíveis de maior valor total e que não esgote o peso que a mochila pode suportar. A melhor resposta seria obtida se fosse possível testar todas as probabilidades, porém devido a exigência de bastante recurso computacional, extrapolando a capacidade da máquina em executar a solução ideal para esse tipo de problema, o algoritmo testará uma lista de indivíduos na população para obter o melhor resultado.\n",
    "\n",
    "Para esse problema foi preciso criar um dicionário de dicionários, no qual cada objeto é um dicionário que apresenta duas chaves (peso e valor) atribuído à ele, para conseguir extrair as informações necessárias, a fim de encontrar os objetos que cabem na mochila sem exceder sua capacidade limite e que apresentem na somatória o maior valor possível dentre as possibilidades.\n",
    "\n",
    "O algoritmo utiliza a mesma estrutura dos experimentos anteriores para as funções gene e indivíduo, pois geram indivíduos aleatórios que também passam pelo processo de seleção, cruzamento e mutação, com o objetivo de melhorar as possibilidades para os indivíduos dentro da lista inicial que foi estabelecida ao acaso.\n",
    "\n",
    "A estratégia para a solução desse problema foi embasada na caixa binária, em que na lista binária [0, 1] o 1 representa o objeto que está na mochila e o 0 é o objeto que não foi considerado.\n",
    "\n",
    "Foi definida a função computa mochila que é uma função intermediária de suporte para a função objetivo, e serve para calcular o valor e peso totais da mochila, facilitando o processo de identificar o melhor fitness na função objetivo aplicada a cada indivíduo para selecionar os melhores.\n",
    "\n",
    "Esse problema pode ser aplicado em uma molécula de fulereno que funciona como *drug delivery*. A molécula é a mochila e cada componente molecular é um objeto que tem uma função no organismo humano, sendo que sua combinação apresenta maior ou menor eficiência (valor) e um volume específico (peso) que pode ocupar o interior do fulereno, cujo espaço é limitado pela sua nanoestrutura icosaédrica."
   ]
  },
  {
   "cell_type": "markdown",
   "metadata": {},
   "source": [
    "## Playground\n",
    "\n"
   ]
  },
  {
   "cell_type": "code",
   "execution_count": null,
   "metadata": {},
   "outputs": [],
   "source": []
  }
 ],
 "metadata": {
  "kernelspec": {
   "display_name": "ilumpy",
   "language": "python",
   "name": "ilumpy"
  },
  "language_info": {
   "codemirror_mode": {
    "name": "ipython",
    "version": 3
   },
   "file_extension": ".py",
   "mimetype": "text/x-python",
   "name": "python",
   "nbconvert_exporter": "python",
   "pygments_lexer": "ipython3",
   "version": "3.9.7"
  },
  "org": null
 },
 "nbformat": 4,
 "nbformat_minor": 4
}
