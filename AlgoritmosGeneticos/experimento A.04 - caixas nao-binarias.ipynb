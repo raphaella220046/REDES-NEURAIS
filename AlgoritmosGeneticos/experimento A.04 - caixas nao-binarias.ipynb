{
 "cells": [
  {
   "cell_type": "markdown",
   "metadata": {},
   "source": [
    "Problema das caixas não-binárias\n",
    "================================\n",
    "\n"
   ]
  },
  {
   "cell_type": "markdown",
   "metadata": {},
   "source": [
    "## Objetivo\n",
    "\n"
   ]
  },
  {
   "cell_type": "markdown",
   "metadata": {},
   "source": [
    "Encontrar uma solução para o problema das caixas não-binárias usando um algoritmo genético. Considere 4 caixas. Considere que cada caixa pode ter um valor inteiro dentro do conjunto [0, 100].\n",
    "\n"
   ]
  },
  {
   "cell_type": "markdown",
   "metadata": {},
   "source": [
    "## Descrição do problema\n",
    "\n"
   ]
  },
  {
   "cell_type": "markdown",
   "metadata": {},
   "source": [
    "O problema das caixas não-binárias é simples: nós temos um certo número de caixas e cada uma pode conter um número inteiro. O objetivo é encontrar uma combinação de caixas onde a soma dos valores contidos dentro delas é máximo.\n",
    "\n"
   ]
  },
  {
   "cell_type": "markdown",
   "metadata": {},
   "source": [
    "## Importações\n",
    "\n"
   ]
  },
  {
   "cell_type": "code",
   "execution_count": 1,
   "metadata": {},
   "outputs": [],
   "source": [
    "# As funções recebem nomes simplificados dentro deste algoritmo\n",
    "\n",
    "from funcoes import populacao_cnb\n",
    "from funcoes import funcao_objetivo_pop_cnb as funcao_objetivo_pop\n",
    "from funcoes import selecao_roleta_max as funcao_selecao\n",
    "from funcoes import cruzamento_ponto_simples as funcao_cruzamento\n",
    "from funcoes import mutacao_cnb\n",
    "import random"
   ]
  },
  {
   "cell_type": "markdown",
   "metadata": {},
   "source": [
    "## Códigos e discussão\n",
    "\n"
   ]
  },
  {
   "cell_type": "code",
   "execution_count": 2,
   "metadata": {},
   "outputs": [],
   "source": [
    "# Constantes de busca\n",
    "\n",
    "TAMANHO_POP = 15\n",
    "NUM_GERACOES = 50\n",
    "CHANCE_CRUZAMENTO = 0.5\n",
    "CHANCE_MUTACAO = 0.05 # Escolher um valor razoável para não perder informação genética\n",
    "\n",
    "# Constantes do problema da caixa não-binária\n",
    "\n",
    "NUM_GENES = 4\n",
    "VALOR_MAX_CAIXA = 100"
   ]
  },
  {
   "cell_type": "code",
   "execution_count": 3,
   "metadata": {},
   "outputs": [],
   "source": [
    "# Cria uma função parcial que é intermediária e acrescenta um novo argumento na função já existente nesse notebook\n",
    "\n",
    "def cria_populacao_inicial(tamanho, n_genes):\n",
    "    return populacao_cnb(tamanho, n_genes, VALOR_MAX_CAIXA)\n",
    "\n",
    "def funcao_mutacao(individuo):\n",
    "    return mutacao_cnb(individuo, VALOR_MAX_CAIXA)"
   ]
  },
  {
   "cell_type": "code",
   "execution_count": 4,
   "metadata": {},
   "outputs": [
    {
     "name": "stdout",
     "output_type": "stream",
     "text": [
      "população inicial:\n",
      "[[68, 62, 81, 4], [88, 69, 100, 84], [37, 8, 43, 17], [94, 92, 42, 8], [99, 88, 78, 97], [18, 22, 69, 81], [3, 34, 81, 43], [50, 37, 99, 20], [89, 56, 96, 64], [13, 51, 38, 95], [70, 18, 56, 63], [37, 50, 46, 39], [40, 100, 98, 100], [31, 13, 2, 91], [34, 88, 58, 72]]\n",
      "\n",
      "[99, 57, 78, 20] [99, 57, 78, 20]\n",
      "\n",
      "[40, 80, 100, 84] [40, 80, 100, 84]\n",
      "\n",
      "[34, 80, 99, 5] [34, 80, 99, 5]\n",
      "\n",
      "[34, 80, 100, 81] [34, 80, 100, 81]\n",
      "\n",
      "[40, 73, 100, 84] [40, 73, 100, 84]\n",
      "\n",
      "[34, 29, 100, 84] [34, 29, 100, 84]\n",
      "\n",
      "[34, 80, 100, 78] [34, 80, 100, 78]\n",
      "\n",
      "[40, 61, 100, 84] [40, 61, 100, 84]\n",
      "\n",
      "[34, 97, 100, 84] [34, 97, 100, 84]\n",
      "\n",
      "[40, 61, 100, 31] [40, 61, 100, 31]\n",
      "\n",
      "[34, 80, 24, 84] [34, 80, 24, 84]\n",
      "\n",
      "[34, 78, 100, 31] [34, 78, 100, 31]\n",
      "\n",
      "[40, 17, 100, 84] [40, 17, 100, 84]\n",
      "\n",
      "[40, 73, 26, 84] [40, 73, 26, 84]\n",
      "\n",
      "[40, 61, 100, 93] [40, 61, 100, 93]\n",
      "\n",
      "[40, 73, 100, 100] [40, 73, 100, 100]\n",
      "\n",
      "[34, 73, 100, 15] [34, 73, 100, 15]\n",
      "\n",
      "[40, 73, 100, 43] [40, 73, 100, 43]\n",
      "\n",
      "[40, 73, 22, 84] [40, 73, 22, 84]\n",
      "\n",
      "[40, 73, 100, 77] [40, 73, 100, 77]\n",
      "\n",
      "[40, 72, 100, 84] [40, 72, 100, 84]\n",
      "\n",
      "[40, 97, 94, 15] [40, 97, 94, 15]\n",
      "\n",
      "[10, 73, 100, 77] [10, 73, 100, 77]\n",
      "\n",
      "[40, 73, 100, 84] [40, 73, 100, 84]\n",
      "\n",
      "[40, 73, 100, 50] [40, 73, 100, 50]\n",
      "\n",
      "[40, 73, 31, 84] [40, 73, 31, 84]\n",
      "\n",
      "[40, 73, 100, 57] [40, 73, 100, 57]\n",
      "\n",
      "[4, 73, 100, 84] [4, 73, 100, 84]\n",
      "\n",
      "[40, 2, 100, 50] [40, 2, 100, 50]\n",
      "\n",
      "[40, 73, 100, 22] [40, 73, 100, 22]\n",
      "\n",
      "[4, 25, 100, 84] [4, 25, 100, 84]\n",
      "\n",
      "[40, 73, 100, 63] [40, 73, 100, 63]\n",
      "\n",
      "[40, 75, 100, 77] [40, 75, 100, 77]\n",
      "\n",
      "[40, 83, 100, 77] [40, 83, 100, 77]\n",
      "\n",
      "[42, 75, 100, 77] [42, 75, 100, 77]\n",
      "\n",
      "[40, 83, 38, 77] [40, 83, 38, 77]\n",
      "\n",
      "[42, 75, 100, 68] [42, 75, 100, 68]\n",
      "\n",
      "[10, 75, 100, 77] [10, 75, 100, 77]\n",
      "\n",
      "[66, 75, 100, 77] [66, 75, 100, 77]\n",
      "\n",
      "[42, 48, 100, 68] [42, 48, 100, 68]\n",
      "\n",
      "[42, 75, 91, 77] [42, 75, 91, 77]\n",
      "\n",
      "população final:\n",
      "[[40, 73, 100, 77], [42, 75, 100, 77], [42, 75, 100, 68], [40, 73, 100, 77], [42, 75, 100, 68], [66, 75, 100, 77], [42, 75, 100, 68], [40, 83, 100, 68], [40, 83, 100, 77], [42, 48, 100, 68], [42, 73, 100, 77], [40, 75, 100, 77], [42, 75, 91, 77], [40, 83, 100, 68], [40, 75, 100, 68]]\n"
     ]
    }
   ],
   "source": [
    "populacao = cria_populacao_inicial(TAMANHO_POP, NUM_GENES)\n",
    "\n",
    "print('população inicial:')\n",
    "print(populacao)\n",
    "\n",
    "for n in range(NUM_GERACOES): # gera uma população aleatoriamente\n",
    "    fitness = funcao_objetivo_pop(populacao) # define o peso para cada indivíduo, considerando o tamanho da população como peso máximo\n",
    "    populacao = funcao_selecao(populacao, fitness)\n",
    "    \n",
    "    pais = populacao[0::2] # alterna na população a cada dois indivíduos, começando por ímpar\n",
    "    maes = populacao[1::2] # alterna na população a cada dois indivíduos, começando por par\n",
    "    \n",
    "    contador = 0\n",
    "    \n",
    "    for pai, mae in zip (pais, maes): # Combinação entre os genes dos individuos com base na chance de cruzamento\n",
    "        if random.random() < CHANCE_CRUZAMENTO:\n",
    "            filho1, filho2 = funcao_cruzamento(pai, mae)\n",
    "            populacao[contador] = filho1\n",
    "            populacao[contador + 1] = filho2\n",
    "        contador = contador + 2\n",
    "        \n",
    "    for n in range(len(populacao)): # Mutação aleatória dos genes da nova população\n",
    "        if random.random() <= CHANCE_MUTACAO:\n",
    "            individuo = populacao[n]\n",
    "            populacao[n] = funcao_mutacao(individuo)\n",
    "            print()\n",
    "            print(individuo, populacao[n])\n",
    "            \n",
    "print()\n",
    "print('população final:')\n",
    "print(populacao)"
   ]
  },
  {
   "cell_type": "markdown",
   "metadata": {},
   "source": [
    "## Conclusão\n",
    "\n"
   ]
  },
  {
   "cell_type": "markdown",
   "metadata": {},
   "source": [
    "No algoritmo das caixas não-binárias foram alteradas as funções de gene de binário para não-binário, incluindo a variável de valor máximo da caixa. Nesse sentido, o intervalo numérico que pode ser selecionado para cada um dos genes compreende um valor de 0 a 100 (incluso).\n",
    "\n",
    "Em relação ao experimento A.03 foram alteradas a função de indivíduo a fim de compor cada caixa com os valores dos genes não-binários, a função população que passa a receber três argumentos, considerando o valor máximo da caixa, por meio de uma função parcial, a função objetivo, pois a probabilidade de ter um indivíduo com soma zero é improvável, e a função mutação que passa a considerar o novo intervalo de genes possíveis.\n",
    "\n",
    "Os resultados mostram que nenhum indivíduo atingiu a maximização esperada, ou seja, [100, 100, 100, 100]. Isso ocorre porque as chances de esse indivíduo ser gerado é de 100<sup>4</sup>. O algoritmo não seleciona os melhores candidatos para cruzamento, a seleção é aleatória, o que pode ocorrer é que mesmo que um indivíduo seja bom para cruzamento, pois apresenta algum gene 100 que pode ser preservado e trasmitido para seus descendentes, ele pode não ser selecionado para cruzamento e não passar esse gene adiante, ou não ocorrer a mutação de um gene para 100, pois as probabilidades são muito baixas.\n",
    "\n",
    "Quanto maior o tamanho da população e o número de gerações, melhores são as chances de obter indivíduos com pelo menos um gene de valor 100, visto que aumenta a variabilidade genética da população, havendo a possibilidade de transferência desse gene específico por hereditariedade ou obtenção desse gene por mutação."
   ]
  },
  {
   "cell_type": "markdown",
   "metadata": {},
   "source": [
    "## Playground\n",
    "\n"
   ]
  },
  {
   "cell_type": "code",
   "execution_count": null,
   "metadata": {},
   "outputs": [],
   "source": []
  }
 ],
 "metadata": {
  "kernelspec": {
   "display_name": "ilumpy",
   "language": "python",
   "name": "ilumpy"
  },
  "language_info": {
   "codemirror_mode": {
    "name": "ipython",
    "version": 3
   },
   "file_extension": ".py",
   "mimetype": "text/x-python",
   "name": "python",
   "nbconvert_exporter": "python",
   "pygments_lexer": "ipython3",
   "version": "3.9.7"
  },
  "org": null
 },
 "nbformat": 4,
 "nbformat_minor": 4
}
