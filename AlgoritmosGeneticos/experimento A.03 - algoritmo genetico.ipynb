{
 "cells": [
  {
   "cell_type": "markdown",
   "metadata": {},
   "source": [
    "Algoritmo genético\n",
    "==================\n",
    "\n"
   ]
  },
  {
   "cell_type": "markdown",
   "metadata": {},
   "source": [
    "## Introdução\n",
    "\n"
   ]
  },
  {
   "cell_type": "markdown",
   "metadata": {},
   "source": [
    "`Algoritmos genéticos` são algoritmos inspirados na teoria da evolução de Darwin e são ferramentas poderosas para resolver problemas de otimização. De maneira simples, a estratégia consiste em gerar uma população inicial aleatória e através de seleção, cruzamento e mutação sucessivas, gerar populações seguintes. Se feito de maneira correta, as populações seguintes tendem a ser melhores candidatos para a solução do problema do que as populações anteriores.\n",
    "\n",
    "Um algoritmo genético pode parecer um tanto complexo, porém é possível dividi-lo em partes relativamente simples:\n",
    "\n",
    "1.  Criação da população inicial (aleatória)\n",
    "\n",
    "2.  Cálculo da função objetivo para todos os membros da população inicial e atualização do hall da fama\n",
    "\n",
    "3.  Seleção dos indivíduos (quais seguem pra próxima geração)\n",
    "\n",
    "4.  Cruzamento dos indivíduos selecionados (troca de material genético)\n",
    "\n",
    "5.  Mutação dos indivíduos da população recém-criada (possibilidade de trazer informação nova ao sistema)\n",
    "\n",
    "6.  Cálculo da função objetivo para todos os membros da população recém-criada e atualização do hall da fama\n",
    "\n",
    "7.  Checar os critérios de parada. Caso os critérios não tenham sido atendidos, retornar ao passo 3\n",
    "\n",
    "8.  Retornar para o usuário o hall da fama\n",
    "\n"
   ]
  },
  {
   "cell_type": "markdown",
   "metadata": {},
   "source": [
    "## Glossário\n",
    "\n"
   ]
  },
  {
   "cell_type": "markdown",
   "metadata": {},
   "source": [
    "-   `Indivíduo`: um candidato para a solução do problema\n",
    "\n",
    "-   `População`: um conjunto de candidatos para a solução do problema\n",
    "\n",
    "-   `Gene`: um parâmetro que pertence a um indivíduo\n",
    "\n",
    "-   `Cromossomo` ou `genótipo`: um conjunto de genes\n",
    "\n",
    "-   `Geração`: cada população em uma busca genética faz parte de uma geração. A primeira geração é geralmente formada por indivíduos aleatórios (sorteados dentro do espaço de busca). As gerações seguintes são formadas por seleção, cruzamento e mutação da geração anterior. Um dos critérios de parada possíveis para um algoritmo genético é o número máximo de gerações\n",
    "\n",
    "-   `Função de aptidão` ou `função objetivo` ou `função fitness`: uma função que recebe um indivíduo e retorna o seu valor de aptidão. Em um problema de otimização, nós buscamos encontrar soluções que minimizam ou maximizam o valor de aptidão\n",
    "\n",
    "-   `Seleção`: processo onde utilizamos o valor de aptidão dos indivíduos para selecionar quais irão passar seus genes para a geração seguinte\n",
    "\n",
    "-   `Cruzamento`: processo onde o material genético de indivíduos selecionados é misturado\n",
    "\n",
    "-   `Mutação`: processo onde os genes dos indivíduos selecionados têm uma chance de alterar seu valor. A mutação é o único processo capaz de introduzir informação nova ao pool genético após o sorteio aleatório da primeira geração\n",
    "\n",
    "-   `Hall da fama`: conjunto dos $n$ indivíduos que obtiveram os melhores valores de aptidão durante o processo de busca\n",
    "\n"
   ]
  },
  {
   "cell_type": "markdown",
   "metadata": {},
   "source": [
    "## Reflexões\n",
    "\n"
   ]
  },
  {
   "cell_type": "markdown",
   "metadata": {},
   "source": [
    "Você diria que o algoritmo genético é determinístico ou probabilístico?\n",
    "\n",
    "Será que um algoritmo genético é capaz de encontrar mínimos (ou máximos) da função objetivo?\n",
    "\n",
    "O que será que acontece quando não realizamos a etapa de mutação do algoritmo genético?\n",
    "\n",
    "O que será que acontece quando usamos uma chance de mutação muito alta?\n",
    "\n"
   ]
  },
  {
   "cell_type": "markdown",
   "metadata": {},
   "source": [
    "## Objetivo\n",
    "\n"
   ]
  },
  {
   "cell_type": "markdown",
   "metadata": {},
   "source": [
    "Encontrar uma solução para o problema das caixas binárias usando o algoritmo genético. Considere 4 caixas.\n",
    "\n"
   ]
  },
  {
   "cell_type": "markdown",
   "metadata": {},
   "source": [
    "## Descrição do problema\n",
    "\n"
   ]
  },
  {
   "cell_type": "markdown",
   "metadata": {},
   "source": [
    "O problema das caixas binárias é simples: nós temos um certo número de caixas e cada uma pode conter um valor do conjunto $\\{0, 1\\}$. O objetivo é encontrar uma combinação de caixas onde a soma dos valores contidos dentro delas é máximo.\n",
    "\n"
   ]
  },
  {
   "cell_type": "markdown",
   "metadata": {},
   "source": [
    "## Importações\n",
    "\n"
   ]
  },
  {
   "cell_type": "code",
   "execution_count": 1,
   "metadata": {},
   "outputs": [],
   "source": [
    "# As funções recebem nomes simplificados dentro deste algoritmo\n",
    "from funcoes import populacao_cb as cria_populacao_inicial\n",
    "from funcoes import funcao_objetivo_pop_cd as funcao_objetivo_pop\n",
    "from funcoes import selecao_roleta_max as funcao_selecao\n",
    "from funcoes import cruzamento_ponto_simples as funcao_cruzamento\n",
    "from funcoes import mutacao_cb as funcao_mutacao\n",
    "import random"
   ]
  },
  {
   "cell_type": "markdown",
   "metadata": {},
   "source": [
    "## Códigos e discussão\n",
    "\n"
   ]
  },
  {
   "cell_type": "code",
   "execution_count": 2,
   "metadata": {},
   "outputs": [],
   "source": [
    "# Constantes\n",
    "\n",
    "TAMANHO_POP = 10\n",
    "NUM_GENES = 4\n",
    "NUM_GERACOES = 25\n",
    "CHANCE_CRUZAMENTO = 0.5\n",
    "CHANCE_MUTACAO = 0.05 # Escolher um valor razoável para não perder informação genética"
   ]
  },
  {
   "cell_type": "code",
   "execution_count": 3,
   "metadata": {},
   "outputs": [
    {
     "name": "stdout",
     "output_type": "stream",
     "text": [
      "população inicial:\n",
      "[[1, 1, 1, 0], [1, 1, 1, 0], [1, 1, 0, 1], [1, 1, 1, 0], [1, 1, 0, 0], [1, 1, 0, 1], [1, 0, 0, 0], [1, 1, 0, 1], [0, 0, 1, 1], [0, 1, 1, 0]]\n",
      "\n",
      "[1, 1, 1, 0] [1, 1, 1, 0]\n",
      "\n",
      "[1, 1, 0, 1] [1, 1, 0, 1]\n",
      "\n",
      "[1, 1, 1, 0] [1, 1, 1, 0]\n",
      "\n",
      "[1, 0, 1, 1] [1, 0, 1, 1]\n",
      "\n",
      "[1, 0, 1, 1] [1, 0, 1, 1]\n",
      "\n",
      "[1, 1, 0, 1] [1, 1, 0, 1]\n",
      "\n",
      "[1, 1, 0, 1] [1, 1, 0, 1]\n",
      "\n",
      "[1, 0, 1, 1] [1, 0, 1, 1]\n",
      "\n",
      "[1, 1, 1, 1] [1, 1, 1, 1]\n",
      "\n",
      "[0, 1, 0, 1] [0, 1, 0, 1]\n",
      "\n",
      "[1, 1, 1, 1] [1, 1, 1, 1]\n",
      "\n",
      "[1, 1, 1, 1] [1, 1, 1, 1]\n",
      "\n",
      "população final:\n",
      "[[1, 1, 0, 1], [1, 1, 0, 1], [1, 1, 1, 1], [1, 1, 1, 1], [1, 1, 0, 1], [1, 1, 1, 1], [1, 1, 0, 1], [1, 1, 1, 1], [1, 1, 0, 1], [1, 1, 1, 1]]\n"
     ]
    }
   ],
   "source": [
    "populacao = cria_populacao_inicial(TAMANHO_POP, NUM_GENES)\n",
    "\n",
    "print('população inicial:')\n",
    "print(populacao)\n",
    "\n",
    "for n in range(NUM_GERACOES): # gera uma população aleatoriamente\n",
    "    fitness = funcao_objetivo_pop(populacao) # define o peso para cada indivíduo, considerando o tamanho da população como peso máximo\n",
    "    populacao = funcao_selecao(populacao, fitness)\n",
    "    \n",
    "    pais = populacao[0::2] # alterna na população a cada dois indivíduos, começando por ímpar\n",
    "    maes = populacao[1::2] # alterna na população a cada dois indivíduos, começando por par\n",
    "    \n",
    "    contador = 0\n",
    "    \n",
    "    for pai, mae in zip (pais, maes): # Combinação entre os genes dos individuos com base na chance de cruzamento\n",
    "        if random.random() < CHANCE_CRUZAMENTO:\n",
    "            filho1, filho2 = funcao_cruzamento(pai, mae)\n",
    "            populacao[contador] = filho1\n",
    "            populacao[contador + 1] = filho2\n",
    "        contador = contador + 2\n",
    "        \n",
    "    for n in range(len(populacao)): # Mutação aleatória dos genes da nova população\n",
    "        if random.random() <= CHANCE_MUTACAO:\n",
    "            individuo = populacao[n]\n",
    "            populacao[n] = funcao_mutacao(individuo)\n",
    "            print()\n",
    "            print(individuo, populacao[n])\n",
    "            \n",
    "print()\n",
    "print('população final:')\n",
    "print(populacao)"
   ]
  },
  {
   "cell_type": "markdown",
   "metadata": {},
   "source": [
    "## Conclusão\n",
    "\n"
   ]
  },
  {
   "cell_type": "markdown",
   "metadata": {},
   "source": [
    "Primeiramente, é gerada uma população que considera o tamanho da população e a quantidade de genes. Essa população passa por uma seleção aleatória ponderada, na qual são atribuídos pesos diferentes para cada indivíduo. Utilizando o método random e a divisão de listas, os genes dos pais e das mães são misturados para, em seguida, executar a concatenação entre os dois segmentos de listas, correspondentes aos pais e às mães.\n",
    "\n",
    "Por último, a função gene da caixa binária é aplicada para alterar um dos genes dos filhos.\n",
    "\n",
    "O método randint foi empregado para determinar aleatoriamente o ponto de corte e o gene a ser mutado, incluindo o primeiro gene do indivíduo, mas excluindo o último por padrão, por isso o uso do \"-1\".\n",
    "\n",
    "O algoritmo tem algumas limitações, pois não considera as especificidades de cruzamento entre indivíduos, como a não possibilidade de cruzamento entre os indivíduos, um macho cruzar com mais de uma fêmea e a influência dos genes entre o pai e a mãe é de igual proporção para o indivíduo. Além disso, não permite um controle sobre a mutação, pois todo o processo desde a seleção, combinação, até a mutação ocorre ao acaso.\n",
    "\n",
    "Algumas observações: O parâmetro do tamanho da população influencia na maior variabilidade genética. Ao aumentar o tamanho da população e/ou o número de gerações, a quantidade de filhos também aumenta. Mesmo alterando todos os parâmetros, não foi identificada variação entre os genes de cada par de filhos."
   ]
  },
  {
   "cell_type": "markdown",
   "metadata": {},
   "source": [
    "## Playground\n",
    "\n"
   ]
  },
  {
   "cell_type": "code",
   "execution_count": null,
   "metadata": {},
   "outputs": [],
   "source": []
  }
 ],
 "metadata": {
  "kernelspec": {
   "display_name": "ilumpy",
   "language": "python",
   "name": "ilumpy"
  },
  "language_info": {
   "codemirror_mode": {
    "name": "ipython",
    "version": 3
   },
   "file_extension": ".py",
   "mimetype": "text/x-python",
   "name": "python",
   "nbconvert_exporter": "python",
   "pygments_lexer": "ipython3",
   "version": "3.9.7"
  },
  "org": null
 },
 "nbformat": 4,
 "nbformat_minor": 4
}
