{
 "cells": [
  {
   "cell_type": "markdown",
   "metadata": {},
   "source": [
    "Descobrindo a senha\n",
    "===================\n",
    "\n"
   ]
  },
  {
   "cell_type": "markdown",
   "metadata": {},
   "source": [
    "## Objetivo\n",
    "\n"
   ]
  },
  {
   "cell_type": "markdown",
   "metadata": {},
   "source": [
    "Usar um algoritmo genético para descobrir uma senha.\n",
    "\n"
   ]
  },
  {
   "cell_type": "markdown",
   "metadata": {},
   "source": [
    "## Descrição do problema\n",
    "\n"
   ]
  },
  {
   "cell_type": "markdown",
   "metadata": {},
   "source": [
    "Neste problema, a função objetivo deve saber a senha correta e quantificar de alguma maneira o quão perto ou longe os palpites estão da solução (veja que isso é algo que não temos no mundo real. Nenhum site irá te dizer se você está acertando ou errando seu palpite). O critério de parada deste problema é quando a senha for descoberta.\n",
    "\n"
   ]
  },
  {
   "cell_type": "markdown",
   "metadata": {},
   "source": [
    "## Importações\n",
    "\n"
   ]
  },
  {
   "cell_type": "code",
   "execution_count": 1,
   "metadata": {},
   "outputs": [],
   "source": [
    "from funcoes import populacao_inicial_senha\n",
    "from funcoes import funcao_objetivo_pop_senha\n",
    "from funcoes import selecao_torneio_min\n",
    "from funcoes import cruzamento_ponto_simples as funcao_cruzamento\n",
    "from funcoes import mutacao_senha\n",
    "import random"
   ]
  },
  {
   "cell_type": "markdown",
   "metadata": {},
   "source": [
    "## Códigos e discussão\n",
    "\n"
   ]
  },
  {
   "cell_type": "markdown",
   "metadata": {},
   "source": [
    "##### PSEUDOCÓDIGO:\n",
    "\n",
    "- Criar uma lista com a senha alfabética\n",
    "- Converter as letras para unicode, conforme tabela tabela ASCII, utilizando a função ord\n",
    "- Criar várias listas de variáveis numéricas de mesmo tamanho da senha\n",
    "- Comparar essas listas com a lista criada, verificando a melhor aproximação com cada elemento\n",
    "- Subtrair cada elemento das listas possíveis com a lista criada, obtendo o resultado absoluto\n",
    "- Eleger as possíveis listas com as melhores aproximações, ou seja, menor fitness (problema de minimização)"
   ]
  },
  {
   "cell_type": "code",
   "execution_count": 2,
   "metadata": {},
   "outputs": [],
   "source": [
    "# Constantes\n",
    "\n",
    "# Relacionadas à busca\n",
    "TAMANHO_POP = 100\n",
    "NUM_GERACOES = 50\n",
    "CHANCE_CRUZAMENTO = 0.5\n",
    "CHANCE_MUTACAO = 0.05\n",
    "NUM_COMBATENTES_TORNEIO = 3\n",
    "\n",
    "# Relacionadas ao problema a ser resolvido\n",
    "SENHA = '!%$#@&*'\n",
    "CARACTERES_POSSIVEIS = '!%$#@&*abcdefghijklmnopqrstuvwxyzABCDEFGHIJKLMNOPQRSTUVWXYZ'\n",
    "NUM_GENES = len(SENHA)"
   ]
  },
  {
   "cell_type": "code",
   "execution_count": 3,
   "metadata": {},
   "outputs": [],
   "source": [
    "# funções locais\n",
    "\n",
    "def cria_populacao_inicial(tamanho, tamanho_senha):\n",
    "    return populacao_inicial_senha(tamanho, tamanho_senha, CARACTERES_POSSIVEIS)\n",
    "\n",
    "def funcao_objetivo_pop(populacao):\n",
    "    return funcao_objetivo_pop_senha(populacao, SENHA)\n",
    "\n",
    "def funcao_selecao(populacao, fitness):\n",
    "    return selecao_torneio_min(populacao, fitness, NUM_COMBATENTES_TORNEIO)\n",
    "\n",
    "def funcao_mutacao(individuo):\n",
    "    return mutacao_senha(individuo, CARACTERES_POSSIVEIS)"
   ]
  },
  {
   "cell_type": "code",
   "execution_count": 4,
   "metadata": {},
   "outputs": [
    {
     "name": "stdout",
     "output_type": "stream",
     "text": [
      "Progresso de geração de senhas convergindo para a melhor senha:\n",
      "$Gd$M*E - fitness: 146\n",
      "AX&&M*E - fitness: 132\n",
      "%##%Os# - fitness: 108\n",
      "%I%$DM# - fitness: 92\n",
      "%##&%*# - fitness: 48\n",
      "###%O## - fitness: 32\n",
      "%#%$D#! - fitness: 24\n",
      "%#%$D## - fitness: 22\n",
      "##%$D## - fitness: 20\n",
      "##%$C## - fitness: 19\n",
      "##%$D&# - fitness: 17\n",
      "##%$C&# - fitness: 16\n",
      "!#%$C&# - fitness: 14\n",
      "!#%#C&# - fitness: 13\n",
      "!%%#C&# - fitness: 11\n",
      "!%%#B&# - fitness: 10\n",
      "!%%#B&$ - fitness: 9\n",
      "!%$#B&$ - fitness: 8\n",
      "!%$#A&$ - fitness: 7\n",
      "!%$#A&% - fitness: 6\n",
      "!%$#@&% - fitness: 5\n",
      "!%$#@&* - fitness: 0\n",
      "\n",
      "Melhor estimativa de senha encontrada:\n",
      "!%$#@&*\n"
     ]
    }
   ],
   "source": [
    "populacao = cria_populacao_inicial(TAMANHO_POP, NUM_GENES)\n",
    "\n",
    "melhor_fitness_ja_visto = float('inf')\n",
    "\n",
    "print('Progresso de geração de senhas convergindo para a melhor senha:')\n",
    "\n",
    "while melhor_fitness_ja_visto != 0:\n",
    "    \n",
    "    # Seleção\n",
    "    fitness = funcao_objetivo_pop(populacao)\n",
    "    populacao = funcao_selecao(populacao, fitness)\n",
    "    \n",
    "    # Cruzamento\n",
    "    pais = populacao[0::2]\n",
    "    maes = populacao[1::2]\n",
    "    \n",
    "    contador = 0\n",
    "    \n",
    "    for pai, mae in zip(pais, maes):\n",
    "        if random.random() <= CHANCE_CRUZAMENTO:\n",
    "            filho1, filho2 = funcao_cruzamento(pai, mae)\n",
    "            populacao[contador] = filho1\n",
    "            populacao[contador+1] = filho2\n",
    "            \n",
    "        contador = contador + 2\n",
    "        \n",
    "    for n in range(len(populacao)):\n",
    "        if random.random() <= CHANCE_MUTACAO:\n",
    "            individuo = populacao[n]\n",
    "            populacao[n] = funcao_mutacao(individuo)\n",
    "            \n",
    "    fitness = funcao_objetivo_pop(populacao)\n",
    "    menor_fitness = min(fitness)\n",
    "    if menor_fitness < melhor_fitness_ja_visto:\n",
    "        posicao = fitness.index(menor_fitness)\n",
    "        melhor_individuo_ja_visto = populacao[posicao]\n",
    "        melhor_fitness_ja_visto = menor_fitness\n",
    "        print(''.join(melhor_individuo_ja_visto), '- fitness:', melhor_fitness_ja_visto)\n",
    "        \n",
    "print()\n",
    "print('Melhor estimativa de senha encontrada:')\n",
    "print(''.join(melhor_individuo_ja_visto))"
   ]
  },
  {
   "cell_type": "markdown",
   "metadata": {},
   "source": [
    "## Conclusão\n",
    "\n"
   ]
  },
  {
   "cell_type": "markdown",
   "metadata": {},
   "source": [
    "A partir de uma população com 100 senhas candidatas, é feita a seleção, cruzamento e mutação, a fim de identificar o melhor fit para o problema de minimização proposto, que consiste em encontrar dentro das senhas geradas aquela correspondente a senha previamente determinada, comparando a diferença entre cada um de seus caracteres, por meio de um torneio aleatório, até eleger aquela cuja diferença é zero, atingindo o critério de parada do algoritmo e retornando a senha encontrada.\n",
    "\n",
    "Possíveis aplicações:\n",
    "\n",
    "Este algoritmo pode ser aplicado na área de biologia, após identificar a sequência dos pares de base do DNA, conforme os quatro pares de base nitrogenadas (Adenina, Timina, Guanina, Citosina) e suas respectivas interações (A-T, G-C). Nesse sentido, pode ser verificada a correspondência desse DNA sequenciado com outro DNA previamente sequenciado, por meio da comparação em um banco de dados.\n",
    "Outra possível aplicação é na área engenharia de materiais, na proposição de um novo material, em que após levantar as propriedades e os critérios necessários, comparar em bancos de dados, possíveis moléculas que atribuam as características requeridas para que o material desempenhe as funções especificadas.\n",
    "\n",
    "Observações:\n",
    "- O tamanho da população precisa ser maior que o número de combatentes, para não ocasionar o erro de população menor que a amostra;\n",
    "- O algoritmo converge mais rapidamente se o tamanho da população é grande o suficiente para que ele possa realizar o cruzamento, a mutação, comparar as distâncias e eleger o melhor fit;\n",
    "- A possibilidade de mutação aumenta a probabilidade de encontrar a senha, visto que pode alterar os caracteres de senhas com um fit ruim e que seriam descartadas;\n",
    "- O operador de seleção é aleatório, se for selecionado o tamanho do torneio como 1, ele não terá com quem comparar e, então, ele não processará a operação como esperado;\n",
    "- O código pode trabalhar com qualquer tipo de senha, visto que cada caractere possui um código universal que é interpretado pelo computador e, portanto esse código é específico de cada caractere, o que garante que esse algoritmo possa encontrar a senha correta."
   ]
  },
  {
   "cell_type": "markdown",
   "metadata": {},
   "source": [
    "## Playground\n",
    "\n"
   ]
  },
  {
   "cell_type": "code",
   "execution_count": null,
   "metadata": {},
   "outputs": [],
   "source": []
  }
 ],
 "metadata": {
  "kernelspec": {
   "display_name": "ilumpy",
   "language": "python",
   "name": "ilumpy"
  },
  "language_info": {
   "codemirror_mode": {
    "name": "ipython",
    "version": 3
   },
   "file_extension": ".py",
   "mimetype": "text/x-python",
   "name": "python",
   "nbconvert_exporter": "python",
   "pygments_lexer": "ipython3",
   "version": "3.9.7"
  },
  "org": null
 },
 "nbformat": 4,
 "nbformat_minor": 4
}
