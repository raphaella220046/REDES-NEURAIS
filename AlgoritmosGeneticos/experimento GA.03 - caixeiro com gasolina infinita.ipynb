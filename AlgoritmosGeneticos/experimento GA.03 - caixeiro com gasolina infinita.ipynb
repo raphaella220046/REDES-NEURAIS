{
 "cells": [
  {
   "cell_type": "markdown",
   "metadata": {},
   "source": [
    "O caixeiro com gasolina infinita (e sem conciência ambiental)\n",
    "=================\n",
    "\n"
   ]
  },
  {
   "cell_type": "markdown",
   "metadata": {},
   "source": [
    "## Introdução\n",
    "\n"
   ]
  },
  {
   "cell_type": "markdown",
   "metadata": {},
   "source": [
    "Este desafio consiste na resolução do experimento 'O caixeiro com gasolina infinita' que integra a lista de experimentos que se encontra na pasta de Algoritmos Genéticos."
   ]
  },
  {
   "cell_type": "markdown",
   "metadata": {},
   "source": [
    "## Objetivo\n",
    "\n"
   ]
  },
  {
   "cell_type": "markdown",
   "metadata": {},
   "source": [
    "Encontrar o caminho de *maior* distância no problema do caixeiro viajante. A rota pode se iniciar em qualquer um dos pontos disponíveis e deve terminar no ponto inicial, visitando todos os demais pontos apenas uma vez. Considerar que a rota entre um ponto e outro é a linha reta que liga os dois pontos. Por último, mostrar o caminho de forma gráfica."
   ]
  },
  {
   "cell_type": "markdown",
   "metadata": {},
   "source": [
    "## Considerações do experimento\n",
    "\n"
   ]
  },
  {
   "cell_type": "markdown",
   "metadata": {},
   "source": [
    "Considerar um número $n\\geq 7$ de coordenadas $(x,y)$ de cidades e que o caixeiro tenha combustível infinito. As coordenadas podem ser geradas de forma aleatória ou simplesmente usar as coordenadas que for desejada. O caixeiro só anda em linha reta e apenas entre duas cidades. O caixeiro começa e termina seu trajeto na mesma cidade e, fora a cidade inicial, ele não visita nenhuma outra cidade mais de uma vez."
   ]
  },
  {
   "cell_type": "markdown",
   "metadata": {},
   "source": [
    "## Importações\n",
    "\n"
   ]
  },
  {
   "cell_type": "code",
   "execution_count": 1,
   "metadata": {},
   "outputs": [],
   "source": [
    "import random\n",
    "from itertools import permutations\n",
    "\n",
    "import matplotlib.pyplot as plt\n",
    "import networkx as nx\n",
    "\n",
    "from funcoes import cria_cidades\n",
    "from funcoes import populacao_inicial_cv as cria_populacao_inicial\n",
    "from funcoes import funcao_objetivo_cv\n",
    "from funcoes import funcao_objetivo_pop_cv\n",
    "from funcoes import selecao_roleta_max as funcao_selecao\n",
    "from funcoes import cruzamento_ordenado as funcao_cruzamento\n",
    "from funcoes import mutacao_de_troca as funcao_mutacao"
   ]
  },
  {
   "cell_type": "markdown",
   "metadata": {},
   "source": [
    "## Códigos e discussão\n",
    "\n"
   ]
  },
  {
   "cell_type": "code",
   "execution_count": 2,
   "metadata": {},
   "outputs": [],
   "source": [
    "# CONSTANTES\n",
    "\n",
    "# relacionadas à busca\n",
    "TAMANHO_POP = 50\n",
    "CHANCE_CRUZAMENTO = 0.5\n",
    "CHANCE_MUTACAO = 0.05\n",
    "NUM_COMBATENTES_NO_TORNEIO = 3\n",
    "NUM_GERACOES = 1000\n",
    "\n",
    "# relacionadas ao problema a ser resolvido\n",
    "NUM_DE_CIDADES = 7\n",
    "CIDADES = cria_cidades(NUM_DE_CIDADES)"
   ]
  },
  {
   "cell_type": "code",
   "execution_count": 3,
   "metadata": {},
   "outputs": [],
   "source": [
    "# Funções locais\n",
    "\n",
    "def funcao_objetivo_pop(populacao):\n",
    "    return funcao_objetivo_pop_cv(populacao, CIDADES)\n",
    "    \n",
    "def funcao_objetivo_individuo(individuo):\n",
    "    return funcao_objetivo_cv(individuo, CIDADES)"
   ]
  },
  {
   "cell_type": "code",
   "execution_count": 4,
   "metadata": {},
   "outputs": [],
   "source": [
    "# Busca por algoritmo genético\n",
    "\n",
    "populacao = cria_populacao_inicial(TAMANHO_POP, CIDADES)\n",
    "\n",
    "melhor_fitness_ja_visto = -float(\"inf\")  # começa em menos infinito para considerar o menor valor possível e qualquer valor encontrado é maior que menos infinito\n",
    "\n",
    "for n in range(NUM_GERACOES):\n",
    "    \n",
    "    # Seleção\n",
    "    \n",
    "    fitness = funcao_objetivo_pop(populacao)\n",
    "    populacao = funcao_selecao(populacao, fitness)\n",
    "    \n",
    "    # Cruzamento\n",
    "    \n",
    "    pais = populacao[0::2]\n",
    "    maes = populacao[1::2]\n",
    "    \n",
    "    contador = 0\n",
    "    \n",
    "    for pai, mae in zip(pais, maes):\n",
    "        if random.random() <= CHANCE_CRUZAMENTO:\n",
    "            filho1, filho2 = funcao_cruzamento(pai, mae)\n",
    "            populacao[contador] = filho1\n",
    "            populacao[contador + 1] = filho2\n",
    "        \n",
    "        contador = contador + 2   \n",
    "        \n",
    "    # Mutação\n",
    "    \n",
    "    for n in range(len(populacao)):\n",
    "        if random.random() <= CHANCE_MUTACAO:\n",
    "            individuo = populacao[n]\n",
    "            populacao[n] = funcao_mutacao(individuo)            \n",
    "            \n",
    "    # melhor individuo já visto até agora\n",
    "    \n",
    "    fitness = funcao_objetivo_pop(populacao)\n",
    "    maior_fitness = max(fitness)\n",
    "    if maior_fitness > melhor_fitness_ja_visto:        \n",
    "        posicao = fitness.index(maior_fitness)\n",
    "        melhor_individuo_ja_visto = populacao[posicao]\n",
    "        melhor_fitness_ja_visto = maior_fitness"
   ]
  },
  {
   "cell_type": "code",
   "execution_count": 5,
   "metadata": {},
   "outputs": [],
   "source": [
    "# Busca testando todas as permutações\n",
    "\n",
    "melhor_fitness_ever = - float(\"inf\")\n",
    "\n",
    "# testando todas as permutações possíveis\n",
    "\n",
    "for caminho in permutations(list(CIDADES.keys())):\n",
    "    distancia = funcao_objetivo_individuo(caminho)\n",
    "    if distancia > melhor_fitness_ever:\n",
    "        melhor_fitness_ever = distancia\n",
    "        melhor_resposta_ever = caminho"
   ]
  },
  {
   "cell_type": "code",
   "execution_count": 6,
   "metadata": {},
   "outputs": [
    {
     "name": "stdout",
     "output_type": "stream",
     "text": [
      "\n",
      "Melhor cidade obtida por algoritmos genéticos:\n",
      "['Cidade 0', 'Cidade 4', 'Cidade 1', 'Cidade 3', 'Cidade 6', 'Cidade 5', 'Cidade 2'] com distância: 3.484529779730896\n",
      "\n",
      "Melhor cidade obtida por busca exaustiva:\n",
      "('Cidade 0', 'Cidade 2', 'Cidade 5', 'Cidade 6', 'Cidade 3', 'Cidade 1', 'Cidade 4') com distância: 3.484529779730896\n"
     ]
    }
   ],
   "source": [
    "# Checando os resultados\n",
    "\n",
    "print()\n",
    "print(\"Melhor cidade obtida por algoritmos genéticos:\")\n",
    "print(melhor_individuo_ja_visto, \"com distância:\", melhor_fitness_ja_visto)\n",
    "\n",
    "print()\n",
    "print(\"Melhor cidade obtida por busca exaustiva:\")\n",
    "print(melhor_resposta_ever, \"com distância:\", melhor_fitness_ever)"
   ]
  },
  {
   "cell_type": "code",
   "execution_count": 7,
   "metadata": {},
   "outputs": [
    {
     "data": {
      "image/png": "[encoded data removed]",
      "text/plain": [
       "<Figure size 432x288 with 1 Axes>"
      ]
     },
     "metadata": {},
     "output_type": "display_data"
    }
   ],
   "source": [
    "# Plotagem do grafo\n",
    "\n",
    "grafo = nx.Graph()\n",
    "for i in list(CIDADES.keys()):\n",
    "    grafo.add_node(i)\n",
    "n = -1\n",
    "while n < len(melhor_individuo_ja_visto)-1:\n",
    "    grafo.add_edge(melhor_individuo_ja_visto[n], melhor_individuo_ja_visto[n+1])\n",
    "    n+=1\n",
    "rotulo_vertices = CIDADES.keys()\n",
    "coordenadas = nx.spring_layout(grafo, pos=CIDADES, fixed = rotulo_vertices)\n",
    "nx.draw_networkx(grafo, coordenadas, node_color = 'orange')"
   ]
  },
  {
   "cell_type": "markdown",
   "metadata": {},
   "source": [
    "**Interpretação do grafo:**\n",
    "\n",
    "Este é um tipo de grafo de estrutura fechada, em que cada vértice apresenta duas arestas conectadas a duas outras cidades, na qual uma aresta representa a partida de uma determinada cidade enquanto a outra corresponde a chegada em uma determinada cidade."
   ]
  },
  {
   "cell_type": "markdown",
   "metadata": {},
   "source": [
    "**Observações:**\n",
    "\n",
    "Este experimento é similar ao experimento A.06 - o caixeiro viajante, porém como se trata de resolver um problema de maximização, a função `selecao_torneio_min` foi substituída pela `selecao_roleta_max`, também foi definido o `melhor_fitness_ja_visto` como sendo *-(\"inf\")* para considerar o menor valor possível e qualquer valor estabelecido é maior que ele. Além disso, na seção de *melhor indivíduo já visto* houve alteração da função `min` para `max` aplicada ao fitness e do sinal de `<` para `>` porque o fitness considerado será aquele que for maior do que o melhor fitness encontrado."
   ]
  },
  {
   "cell_type": "markdown",
   "metadata": {},
   "source": [
    "## Conclusão\n",
    "\n"
   ]
  },
  {
   "cell_type": "markdown",
   "metadata": {},
   "source": [
    "Este algoritmo tem por objetivo identificar a maior distância percorrida pelo caixeiro viajante ao passar por um determinado número de cidades.\n",
    "\n",
    "Para isso, primeiramente são criadas as cidades aleatoriamente. Em seguida, é definido o indivíduo como uma lista contendo a quantidade de cidades, e a população que tem seu tamanho determinado e recebe as cidades definidas anteriormente. Na sequência, é definida uma função que calcula a distância euclidiana entre dois pontos a e b que correspondem ao intervalo entre duas cidades de referência. Foram definidas duas funções objetivo, sendo a função objetivo que calcula a distância percorrida pelo caixeiro e seu retorno até a cidade inicial, e a função objetivo que se aplica à toda a população.\n",
    "\n",
    "Esse algoritmo compreende quatro etapas que é a seleção de indivíduos com o melhor ajuste, ou seja, dentro da população são as sequências de cidades que apresentaram a maior distância comparando com todas as cidades geradas aleatoriamente. O cruzamento ordenado entre dois indivíduos, pai e mãe, buscando em posições alternadas da lista. Adiante, é definido um intervado dentro de cada indivíduo para compor parte de um teceiro indivíduo (filho). A mutação ocorre por troca entre as cidades em cada indivíduo filho, comparando com o ajuste estabelecido, a fim de obter os melhores resultados. Por último, é identificado o indivíduo que apresenta o maior ajuste entre os melhores selecionados.\n",
    "\n",
    "Este é um problema do tipo NP (*Nondeterministic Polynomial*), que é um tipo de problema na teoria da complexidade computacional que se caracteriza pelo tempo de execução de uma função polinomial correspondente ao tamanho de entrada (quantidade de dados a serem processados), mas que não possui solução determinística em tempo polinomial. Dessa forma, a solução pode ser verificada em tempo polinomial, pois encontrar a solução ideal exigiria uma quantidade exponencial de tempo e recurso computacional.\n",
    "\n",
    "Para o problema do caixeiro viajante, há uma limitação na quantidade de cidades que o algoritmo é capaz de processar, visto que a execução aumenta exponencialmente a cada rodada.\n",
    "\n",
    "Uma observação é que para esse algoritmo há a necessidade de trabalhar com, no mínimo, quatro cidades, visto que a distância entre dois pontos é a mesma e só pode ser alterada a direção [a-b ou b-a], assim como ocorre para três cidades, apenas alternando a posição de partida e chegada [a-b-c, c-b-a, b-a-c, c-a-b, b-c-a, a-c-b], como num triângulo."
   ]
  },
  {
   "cell_type": "markdown",
   "metadata": {},
   "source": [
    "## Playground\n",
    "\n"
   ]
  },
  {
   "cell_type": "code",
   "execution_count": null,
   "metadata": {},
   "outputs": [],
   "source": []
  }
 ],
 "metadata": {
  "kernelspec": {
   "display_name": "ilumpy",
   "language": "python",
   "name": "ilumpy"
  },
  "language_info": {
   "codemirror_mode": {
    "name": "ipython",
    "version": 3
   },
   "file_extension": ".py",
   "mimetype": "text/x-python",
   "name": "python",
   "nbconvert_exporter": "python",
   "pygments_lexer": "ipython3",
   "version": "3.9.7"
  },
  "org": null
 },
 "nbformat": 4,
 "nbformat_minor": 4
}
